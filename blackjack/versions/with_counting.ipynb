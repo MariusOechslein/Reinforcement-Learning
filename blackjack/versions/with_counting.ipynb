{
  "cells": [
    {
      "cell_type": "code",
      "execution_count": 1,
      "metadata": {
        "id": "rFEAIQN4LzC5"
      },
      "outputs": [],
      "source": [
        "# plotting\n",
        "import numpy as np\n",
        "from mpl_toolkits.mplot3d import Axes3D\n",
        "import matplotlib.pyplot as plt\n",
        "from mpl_toolkits.axes_grid1 import make_axes_locatable\n",
        "\n",
        "def plot_blackjack_values(V):\n",
        "    def get_Z(x, y, usable_ace):\n",
        "        if (x,y,usable_ace) in V:\n",
        "            return V[x,y,usable_ace]\n",
        "        else:\n",
        "            return 0\n",
        "\n",
        "    def get_figure(usable_ace, ax):\n",
        "        x_range = np.arange(11, 22)\n",
        "        y_range = np.arange(1, 11)\n",
        "        X, Y = np.meshgrid(x_range, y_range)\n",
        "\n",
        "        Z = np.array([get_Z(x,y,usable_ace) for x,y in zip(np.ravel(X), np.ravel(Y))]).reshape(X.shape)\n",
        "\n",
        "        surf = ax.plot_surface(X, Y, Z, rstride=1, cstride=1, cmap=plt.cm.coolwarm, vmin=-1.0, vmax=1.0)\n",
        "        ax.set_xlabel('Player\\'s Current Sum')\n",
        "        ax.set_ylabel('Dealer\\'s Showing Card')\n",
        "        ax.set_zlabel('State Value')\n",
        "        ax.view_init(ax.elev, -120)\n",
        "\n",
        "    fig = plt.figure(figsize=(20, 20))\n",
        "    ax = fig.add_subplot(211, projection='3d')\n",
        "    ax.set_title('Usable Ace')\n",
        "    get_figure(True, ax)\n",
        "    ax = fig.add_subplot(212, projection='3d')\n",
        "    ax.set_title('No Usable Ace')\n",
        "    get_figure(False, ax)\n",
        "    plt.show()\n",
        "\n",
        "def plot_policy(policy):\n",
        "\n",
        "    def get_Z(x, y, usable_ace):\n",
        "        if (x,y,usable_ace) in policy:\n",
        "            return policy[x,y,usable_ace]\n",
        "        else:\n",
        "            return 1\n",
        "\n",
        "    def get_figure(usable_ace, ax):\n",
        "        x_range = np.arange(11, 22)\n",
        "        y_range = np.arange(10, 0, -1)\n",
        "        X, Y = np.meshgrid(x_range, y_range)\n",
        "        Z = np.array([[get_Z(x,y,usable_ace) for x in x_range] for y in y_range])\n",
        "        surf = ax.imshow(Z, cmap=plt.get_cmap('Pastel2', 2), vmin=0, vmax=1, extent=[10.5, 21.5, 0.5, 10.5])\n",
        "        plt.xticks(x_range)\n",
        "        plt.yticks(y_range)\n",
        "        plt.gca().invert_yaxis()\n",
        "        ax.set_xlabel('Player\\'s Current Sum')\n",
        "        ax.set_ylabel('Dealer\\'s Showing Card')\n",
        "        ax.grid(color='w', linestyle='-', linewidth=1)\n",
        "        divider = make_axes_locatable(ax)\n",
        "        cax = divider.append_axes(\"right\", size=\"5%\", pad=0.1)\n",
        "        cbar = plt.colorbar(surf, ticks=[0,1], cax=cax)\n",
        "        cbar.ax.set_yticklabels(['0 (STICK)','1 (HIT)'])\n",
        "\n",
        "    fig = plt.figure(figsize=(15, 15))\n",
        "    ax = fig.add_subplot(121)\n",
        "    ax.set_title('Usable Ace')\n",
        "    get_figure(True, ax)\n",
        "    ax = fig.add_subplot(122)\n",
        "    ax.set_title('No Usable Ace')\n",
        "    get_figure(False, ax)\n",
        "    plt.show()"
      ]
    },
    {
      "cell_type": "code",
      "execution_count": 2,
      "metadata": {
        "id": "2207JlULn8uu"
      },
      "outputs": [],
      "source": [
        "# Cell for plotting COUNTING CARDS\n",
        "\n",
        "def plot_blackjack_values_counting_cards(V, num_cards_left, val_cards_left):\n",
        "    def get_Z(x, y, usable_ace, num_cards_left, val_cards_left):\n",
        "        if (x,y,usable_ace, num_cards_left, val_cards_left) in V:\n",
        "            return V[x,y,usable_ace, num_cards_left, val_cards_left]\n",
        "        else:\n",
        "            return 0\n",
        "\n",
        "    def get_figure(usable_ace, ax, num_cards_left, val_cards_left):\n",
        "        x_range = np.arange(11, 22)\n",
        "        y_range = np.arange(1, 11)\n",
        "        X, Y = np.meshgrid(x_range, y_range)\n",
        "\n",
        "        Z = np.array([get_Z(x,y,usable_ace, num_cards_left, val_cards_left) for x,y in zip(np.ravel(X), np.ravel(Y))]).reshape(X.shape)\n",
        "\n",
        "        surf = ax.plot_surface(X, Y, Z, rstride=1, cstride=1, cmap=plt.cm.coolwarm, vmin=-1.0, vmax=1.0)\n",
        "        ax.set_xlabel('Player\\'s Current Sum')\n",
        "        ax.set_ylabel('Dealer\\'s Showing Card')\n",
        "        ax.set_zlabel('State Value')\n",
        "        ax.view_init(ax.elev, -120)\n",
        "\n",
        "    fig = plt.figure(figsize=(20, 20))\n",
        "    ax = fig.add_subplot(211, projection='3d')\n",
        "    ax.set_title('Usable Ace')\n",
        "    get_figure(True, ax, num_cards_left, val_cards_left)\n",
        "    ax = fig.add_subplot(212, projection='3d')\n",
        "    ax.set_title('No Usable Ace')\n",
        "    get_figure(False, ax, num_cards_left, val_cards_left)\n",
        "    plt.show()\n",
        "\n",
        "def plot_policy_counting_cards(policy, num_cards_left, val_cards_left):\n",
        "\n",
        "    def get_Z(x, y, usable_ace, num_cards_left, val_cards_left):\n",
        "        if (x,y,usable_ace, num_cards_left, val_cards_left) in policy:\n",
        "            return policy[x,y,usable_ace, num_cards_left, val_cards_left]\n",
        "        else:\n",
        "            return 1\n",
        "\n",
        "    def get_figure(usable_ace, ax, num_cards_left, val_cards_left):\n",
        "        x_range = np.arange(11, 22)\n",
        "        y_range = np.arange(10, 0, -1)\n",
        "        X, Y = np.meshgrid(x_range, y_range)\n",
        "        Z = np.array([[get_Z(x,y,usable_ace, num_cards_left, val_cards_left) for x in x_range] for y in y_range])\n",
        "        surf = ax.imshow(Z, cmap=plt.get_cmap('Pastel2', 2), vmin=0, vmax=1, extent=[10.5, 21.5, 0.5, 10.5])\n",
        "        plt.xticks(x_range)\n",
        "        plt.yticks(y_range)\n",
        "        plt.gca().invert_yaxis()\n",
        "        ax.set_xlabel('Player\\'s Current Sum')\n",
        "        ax.set_ylabel('Dealer\\'s Showing Card')\n",
        "        ax.grid(color='w', linestyle='-', linewidth=1)\n",
        "        divider = make_axes_locatable(ax)\n",
        "        cax = divider.append_axes(\"right\", size=\"5%\", pad=0.1)\n",
        "        cbar = plt.colorbar(surf, ticks=[0,1], cax=cax)\n",
        "        cbar.ax.set_yticklabels(['0 (STICK)','1 (HIT)'])\n",
        "\n",
        "    fig = plt.figure(figsize=(15, 15))\n",
        "    ax = fig.add_subplot(121)\n",
        "    ax.set_title('Usable Ace')\n",
        "    get_figure(True, ax, num_cards_left, val_cards_left)\n",
        "    ax = fig.add_subplot(122)\n",
        "    ax.set_title('No Usable Ace')\n",
        "    get_figure(False, ax, num_cards_left, val_cards_left)\n",
        "    plt.show()"
      ]
    },
    {
      "attachments": {},
      "cell_type": "markdown",
      "metadata": {
        "id": "O3FC57T-PLD1"
      },
      "source": [
        "### Blackjack environment"
      ]
    },
    {
      "cell_type": "code",
      "execution_count": 3,
      "metadata": {
        "id": "s0wJSIZZPJDK"
      },
      "outputs": [],
      "source": [
        "import os\n",
        "from typing import Optional\n",
        "\n",
        "import numpy as np\n",
        "import random\n",
        "\n",
        "import gym\n",
        "from gym import spaces\n",
        "from gym.error import DependencyNotInstalled\n",
        "\n",
        "\n",
        "def cmp(a, b):\n",
        "    return float(a > b) - float(a < b)\n",
        "\n",
        "def draw_card(env, np_random = {}):\n",
        "    #return int(np_random.choice(deck))\n",
        "    return int(env.deck.pop())\n",
        "\n",
        "\n",
        "def draw_hand(env, np_random = {}):\n",
        "    #return [draw_card(np_random), draw_card(np_random)]\n",
        "    return [draw_card(env), draw_card(env)]\n",
        "\n",
        "\n",
        "def usable_ace(hand):  # Does this hand have a usable ace?\n",
        "    return 1 in hand and sum(hand) + 10 <= 21\n",
        "\n",
        "\n",
        "def sum_hand(hand):  # Return current hand total\n",
        "    if usable_ace(hand):\n",
        "        return sum(hand) + 10\n",
        "    return sum(hand)\n",
        "\n",
        "\n",
        "def is_bust(hand):  # Is this hand a bust?\n",
        "    return sum_hand(hand) > 21\n",
        "\n",
        "\n",
        "def score(hand):  # What is the score of this hand (0 if bust)\n",
        "    return 0 if is_bust(hand) else sum_hand(hand)\n",
        "\n",
        "\n",
        "def is_natural(hand):  # Is this hand a natural blackjack?\n",
        "    return sorted(hand) == [1, 10]\n",
        "\n",
        "def complete_point_count_system(deck):\n",
        "  score = 0\n",
        "  for card in deck:\n",
        "    if int(card) in [2,3,4,5,6]:\n",
        "      score += 1\n",
        "    elif int(card) in [10,1]:\n",
        "      score -= 1\n",
        "    else:\n",
        "      pass\n",
        "  return score\n",
        "\n",
        "def count_cards(deck):\n",
        "    # Count the cards. 1. keep track of the number of cards left. 2. keep track of the Complete Point count system.\n",
        "    # Process num_cards_left into bins, since keeping track of each single state would explode the state space\n",
        "    # TODO: Play around with this\n",
        "    num_cards_left = len(deck)\n",
        "    if num_cards_left >= 40:\n",
        "      num_cards_left = 40 # Many cards are left\n",
        "    elif num_cards_left >= 30:\n",
        "      num_cards_left = 30 # Medium cards are left\n",
        "    else:\n",
        "      num_cards_left = 20 # Few cards are left\n",
        "    # TODO: This is nullifying the number of cards left to make the state space smaller. If you would like to record this, then comment out this line.\n",
        "    num_cards_left = 40\n",
        "\n",
        "    # Binning\n",
        "    val_cards_left = complete_point_count_system(deck)\n",
        "    if val_cards_left < -5: # Very good for player\n",
        "      val_cards_left = -5\n",
        "    elif val_cards_left >= -5 and val_cards_left <= 5: # Pretty much even\n",
        "      val_cards_left = 0\n",
        "    else: # very bad for player\n",
        "      val_cards_left = 5\n",
        "\n",
        "    return num_cards_left, val_cards_left\n",
        "\n",
        "\n",
        "class BlackjackEnv(gym.Env):\n",
        "    player = []\n",
        "    dealer = []\n",
        "\n",
        "    deck = []\n",
        "    num_decks = 1\n",
        "\n",
        "    def __init__(self, render_mode: Optional[str] = None, natural=False, sab=False, num_decks=1):\n",
        "        self.action_space = spaces.Discrete(2)\n",
        "        self.observation_space = spaces.Tuple(\n",
        "            (spaces.Discrete(32), spaces.Discrete(11), spaces.Discrete(2))\n",
        "        )\n",
        "\n",
        "        # Flag to payout 1.5 on a \"natural\" blackjack win, like casino rules\n",
        "        self.natural = natural\n",
        "\n",
        "        # Flag for full agreement with the (Sutton and Barto, 2018) definition. Overrides self.natural\n",
        "        self.sab = sab\n",
        "\n",
        "        # 1 = Ace, 2-10 = Number cards, Jack/Queen/King = 10\n",
        "        self.num_decks = num_decks\n",
        "        self.deck = [1, 2, 3, 4, 5, 6, 7, 8, 9, 10, 10, 10, 10] * 4 * self.num_decks\n",
        "        # shuffle the deck\n",
        "        random.shuffle(self.deck)\n",
        "\n",
        "    # Game logic for player's actions (hitting or standing).\n",
        "    def step(self, action):\n",
        "        assert self.action_space.contains(action)\n",
        "        if action:  # hit: add a card to players hand and return\n",
        "            self.player.append(draw_card(self))\n",
        "            if is_bust(self.player):\n",
        "                terminated = True\n",
        "                reward = -1.0\n",
        "            else:\n",
        "                terminated = False\n",
        "                reward = 0.0\n",
        "        else:  # stick: play out the dealers hand, and score\n",
        "            terminated = True\n",
        "            while sum_hand(self.dealer) < 17:\n",
        "                self.dealer.append(draw_card(self))\n",
        "            reward = cmp(score(self.player), score(self.dealer))\n",
        "            if self.sab and is_natural(self.player) and not is_natural(self.dealer):\n",
        "                # Player automatically wins. Rules consistent with S&B\n",
        "                reward = 1.0\n",
        "            elif (\n",
        "                not self.sab\n",
        "                and self.natural\n",
        "                and is_natural(self.player)\n",
        "                and reward == 1.0\n",
        "            ):\n",
        "                # Natural gives extra points, but doesn't autowin. Legacy implementation\n",
        "                reward = 1.5\n",
        "\n",
        "        return self._get_obs(), reward, terminated, False\n",
        "\n",
        "    # Get state\n",
        "    def _get_obs(self):\n",
        "        num_cards_left, val_cards_left = count_cards(self.deck)\n",
        "        return (sum_hand(self.player), self.dealer[0], usable_ace(self.player), num_cards_left, val_cards_left)\n",
        "\n",
        "    # Start a new game\n",
        "    def reset(\n",
        "        self,\n",
        "        seed: Optional[int] = None,\n",
        "        options: Optional[dict] = None,\n",
        "    ):\n",
        "        if len(self.deck) <= 15:\n",
        "            super().reset(seed=seed)\n",
        "            self.deck = [1, 2, 3, 4, 5, 6, 7, 8, 9, 10, 10, 10, 10] * 4 * self.num_decks\n",
        "            random.shuffle(self.deck)\n",
        "\n",
        "        # TODO: Actually 1. Dealer 2. Player 3. Dealer 4. Player should draw. Doesn't matter, though.\n",
        "        self.dealer = draw_hand(self)\n",
        "        self.player = draw_hand(self)\n",
        "\n",
        "        # TODO: Hier die Logik dafür, dass immer weiter mit einem Deck gespielt wird, bis es ein Threshold erreicht, nach dem neue gemischt werden sollte = Ende einer Episode.\n",
        "\n",
        "        return self._get_obs()"
      ]
    },
    {
      "attachments": {},
      "cell_type": "markdown",
      "metadata": {
        "id": "HKTl20EwLqoz"
      },
      "source": [
        "### Monte Carlo"
      ]
    },
    {
      "cell_type": "code",
      "execution_count": 4,
      "metadata": {
        "colab": {
          "base_uri": "https://localhost:8080/"
        },
        "id": "I5fCH2og5YhQ",
        "outputId": "7c127301-05d7-42a1-c5c5-13af6fd1e800"
      },
      "outputs": [
        {
          "name": "stderr",
          "output_type": "stream",
          "text": [
            "/usr/local/lib/python3.10/dist-packages/ipykernel/ipkernel.py:283: DeprecationWarning: `should_run_async` will not call `transform_cell` automatically in the future. Please pass the result to `transformed_cell` argument and any exception that happen during thetransform in `preprocessing_exc_tuple` in IPython 7.17 and above.\n",
            "  and should_run_async(code)\n"
          ]
        }
      ],
      "source": [
        "import sys\n",
        "import gym\n",
        "import numpy as np\n",
        "from collections import defaultdict\n",
        "\n",
        "#from plot_utils import plot_blackjack_values, plot_policy"
      ]
    },
    {
      "cell_type": "code",
      "execution_count": 5,
      "metadata": {
        "colab": {
          "base_uri": "https://localhost:8080/"
        },
        "id": "Z-SMauG8LvPR",
        "outputId": "15be58af-6809-4875-f550-d9b4a5c89112"
      },
      "outputs": [
        {
          "name": "stdout",
          "output_type": "stream",
          "text": [
            "[2, 6, 3, 7, 2, 10, 4, 8, 9, 9, 10, 9, 10, 10, 7, 10, 10, 10, 10, 10, 7, 5, 7, 6, 8, 2, 1, 5, 8, 9, 3, 10, 3, 3, 10, 5, 4, 1, 10, 4, 6, 2, 5, 8, 10, 4, 1, 6, 10, 1, 10, 10]\n",
            "52\n"
          ]
        }
      ],
      "source": [
        "#env = gym.make('Blackjack-v1')\n",
        "env = BlackjackEnv(num_decks=1)\n",
        "print(env.deck)\n",
        "print(len(env.deck))"
      ]
    },
    {
      "cell_type": "code",
      "execution_count": 6,
      "metadata": {
        "colab": {
          "base_uri": "https://localhost:8080/"
        },
        "id": "XZSGL3UdMAaH",
        "outputId": "2155a9f5-31f6-44ff-a4af-764227bff9ec"
      },
      "outputs": [
        {
          "name": "stdout",
          "output_type": "stream",
          "text": [
            "Tuple(Discrete(32), Discrete(11), Discrete(2))\n",
            "Discrete(2)\n"
          ]
        }
      ],
      "source": [
        "print(env.observation_space)\n",
        "print(env.action_space)"
      ]
    },
    {
      "cell_type": "code",
      "execution_count": 7,
      "metadata": {
        "colab": {
          "base_uri": "https://localhost:8080/",
          "height": 67
        },
        "id": "j91hT1NUMDxu",
        "outputId": "e835b0bf-35ab-435e-ffc8-e451d6d9c681"
      },
      "outputs": [
        {
          "data": {
            "application/vnd.google.colaboratory.intrinsic+json": {
              "type": "string"
            },
            "text/plain": [
              "\"\\nfor i_episode in range(3):\\n    state = env.reset()\\n    while True:\\n        print(state)\\n        action = env.action_space.sample()\\n        state, reward, done, info = env.step(action)\\n        if done:\\n            print('End game! Reward: ', reward)\\n            print('You won :)\\n') if reward > 0 else print('You lost :(\\n')\\n            break\\n\""
            ]
          },
          "execution_count": 7,
          "metadata": {},
          "output_type": "execute_result"
        }
      ],
      "source": [
        "\"\"\"\n",
        "for i_episode in range(3):\n",
        "    state = env.reset()\n",
        "    while True:\n",
        "        print(state)\n",
        "        action = env.action_space.sample()\n",
        "        state, reward, done, info = env.step(action)\n",
        "        if done:\n",
        "            print('End game! Reward: ', reward)\n",
        "            print('You won :)\\n') if reward > 0 else print('You lost :(\\n')\n",
        "            break\n",
        "\"\"\""
      ]
    },
    {
      "cell_type": "code",
      "execution_count": 25,
      "metadata": {
        "id": "Sm1UTv6sMOrP"
      },
      "outputs": [],
      "source": [
        "def generate_episode_from_Q(env, Q, epsilon, nA):\n",
        "    \"\"\"\n",
        "    Generates an episode from following the epsilon-greedy policy\n",
        "    One episode is the player playing until the remaining deck becomes smaller than 10 cards\n",
        "    \"\"\"\n",
        "    episode = []\n",
        "    env.reset() # Reset the deck, to make sure the len(deck) > 10 again\n",
        "    while len(env.deck) > 15:\n",
        "      state = env.reset()\n",
        "      while True:\n",
        "          action = np.random.choice(np.arange(nA), p=get_probs(Q[state], epsilon, nA)) if state in Q else env.action_space.sample()\n",
        "          next_state, reward, done, info = env.step(action)\n",
        "          # TODO: state so far, improve to count cards too\n",
        "          next_state = next_state[:3] # Remove this for card counting\n",
        "          episode.append((state, action, reward))\n",
        "          state = next_state\n",
        "          if done:\n",
        "              break\n",
        "    return episode\n",
        "\n",
        "def generate_episode_from_Q_counting_cards(env, Q, epsilon, nA):\n",
        "    \"\"\"\n",
        "    Generates an episode from following the epsilon-greedy policy\n",
        "    One episode is the player playing until the remaining deck becomes smaller than 10 cards\n",
        "    \"\"\"\n",
        "    episode = []\n",
        "    env.reset() # Reset the deck, to make sure the len(deck) > 10 again\n",
        "    while len(env.deck) > 15:\n",
        "      state = env.reset()\n",
        "      while True:\n",
        "          action = np.random.choice(np.arange(nA), p=get_probs(Q[state], epsilon, nA)) if state in Q else env.action_space.sample()\n",
        "          next_state, reward, done, info = env.step(action)\n",
        "          episode.append((state, action, reward))\n",
        "          state = next_state\n",
        "          if done:\n",
        "              break\n",
        "    return episode\n",
        "\n",
        "def get_probs(Q_s, epsilon, nA):\n",
        "    \"\"\" obtains the action probabilities corresponding to epsilon-greedy policy \"\"\"\n",
        "    policy_s = np.ones(nA) * epsilon / nA\n",
        "    best_a = np.argmax(Q_s)\n",
        "    policy_s[best_a] = 1 - epsilon + (epsilon / nA)\n",
        "    return policy_s\n",
        "\n",
        "def update_Q(env, episode, Q, alpha, gamma):\n",
        "    \"\"\" updates the action-value function estimate using the most recent episode \"\"\"\n",
        "    states, actions, rewards = zip(*episode)\n",
        "    # prepare for discounting\n",
        "    discounts = np.array([gamma**i for i in range(len(rewards)+1)])\n",
        "    for i, state in enumerate(states):\n",
        "        old_Q = Q[state][actions[i]]\n",
        "        Q[state][actions[i]] = old_Q + alpha*(sum(rewards[i:]*discounts[:-(1+i)]) - old_Q)\n",
        "    return Q"
      ]
    },
    {
      "cell_type": "code",
      "execution_count": 26,
      "metadata": {
        "id": "g43IiVvUMOuq"
      },
      "outputs": [],
      "source": [
        "def mc_control(env, num_episodes, alpha, gamma=1.0, eps_start=1.0, eps_decay=.99999, eps_min=0.05, counting_cards=False):\n",
        "    nA = env.action_space.n\n",
        "    # initialize empty dictionary of arrays\n",
        "    Q = defaultdict(lambda: np.zeros(nA))\n",
        "    epsilon = eps_start\n",
        "    # loop over episodes\n",
        "    for i_episode in range(1, num_episodes+1):\n",
        "        # monitor progress\n",
        "        if i_episode % 1000 == 0:\n",
        "            print(\"\\rEpisode {}/{}.\".format(i_episode, num_episodes), end=\"\")\n",
        "            sys.stdout.flush()\n",
        "        # set the value of epsilon\n",
        "        epsilon = max(epsilon*eps_decay, eps_min)\n",
        "\n",
        "        # generate an episode by following epsilon-greedy policy\n",
        "        episode = []\n",
        "        if counting_cards:\n",
        "            episode = generate_episode_from_Q_counting_cards(env, Q, epsilon, nA)\n",
        "        else:\n",
        "            episode = generate_episode_from_Q(env, Q, epsilon, nA)\n",
        "\n",
        "        # update the action-value function estimate using the episode\n",
        "        Q = update_Q(env, episode, Q, alpha, gamma)\n",
        "    # determine the policy corresponding to the final action-value function estimate\n",
        "    policy = dict((k,np.argmax(v)) for k, v in Q.items())\n",
        "    return policy, Q"
      ]
    },
    {
      "cell_type": "code",
      "execution_count": null,
      "metadata": {
        "colab": {
          "base_uri": "https://localhost:8080/"
        },
        "id": "EH8c7dNaMVZW",
        "outputId": "d7c76cdd-49dc-4559-bff1-55d8e0ab0fcc"
      },
      "outputs": [
        {
          "name": "stdout",
          "output_type": "stream",
          "text": [
            "Episode 24000/500000."
          ]
        }
      ],
      "source": [
        "COUNTING_CARDS = True\n",
        "# obtain the estimated optimal policy and action-value function. Depends on the number of decks how long this will take\n",
        "policy, Q = mc_control(env, 500000, 0.02, counting_cards=COUNTING_CARDS)"
      ]
    },
    {
      "cell_type": "code",
      "execution_count": null,
      "metadata": {
        "id": "y7eU4jV7MVdZ"
      },
      "outputs": [],
      "source": [
        "# obtain the corresponding state-value function\n",
        "V = dict((k,np.max(v)) for k, v in Q.items())\n",
        "\n",
        "num_cards_left = 40 # possible values: 20, 30, 40. When nullifying this, the value = 40.\n",
        "val_cards_left = 0 # possible values: -5 (good), 0 (even), 5 (bad)\n",
        "if COUNTING_CARDS:\n",
        "  # plot the state-value function with counting cards\n",
        "  plot_blackjack_values_counting_cards(V, num_cards_left, val_cards_left)\n",
        "else:\n",
        "  # plot the state-value function\n",
        "  plot_blackjack_values(V)\n",
        "\n"
      ]
    },
    {
      "cell_type": "code",
      "execution_count": 20,
      "metadata": {
        "colab": {
          "base_uri": "https://localhost:8080/",
          "height": 550
        },
        "id": "Ya8VwFN9MVhE",
        "outputId": "3700e8ed-2a5f-4f8a-8c65-6b5b561ec9bb"
      },
      "outputs": [
        {
          "data": {
            "image/png": "[encoded data removed]",
            "text/plain": [
              "<Figure size 1500x1500 with 4 Axes>"
            ]
          },
          "metadata": {},
          "output_type": "display_data"
        }
      ],
      "source": [
        "if COUNTING_CARDS:\n",
        "  # plot the policy counting cards\n",
        "  plot_policy_counting_cards(policy, num_cards_left, val_cards_left)\n",
        "else:\n",
        "  # plot the policy\n",
        "  plot_policy(policy)\n"
      ]
    },
    {
      "cell_type": "code",
      "execution_count": null,
      "metadata": {
        "id": "0olBK5hmMGKx"
      },
      "outputs": [],
      "source": []
    },
    {
      "attachments": {},
      "cell_type": "markdown",
      "metadata": {
        "id": "LpSt9lMap1c1"
      },
      "source": [
        "### Todo's\n",
        "- Train it once really long to get to the optimal policy (making sure that Monte Carlo is the right approach)\n",
        "- Done - Understand the environment + Understand the code\n",
        "- (Make it work locally on the macbook?)\n",
        "- Recreate the environment myself to be able to add/ change rules -> Also achieve optimal policy\n",
        "- Achieve the Complete Point-Count System by changing some things about the environment (like keeping track of a stack instead of sampling cards randomly. Also to add another dimension to the state which counts the cards. Also count the additional dimension based on the value of the cards.)\n",
        "- Send it to the group\n",
        "- Do the printing functions myself/ a little bit different\n",
        "- Do some changes to the rules\n",
        "- Write paper"
      ]
    },
    {
      "cell_type": "code",
      "execution_count": null,
      "metadata": {
        "id": "9tk_0LJebp3n"
      },
      "outputs": [],
      "source": []
    }
  ],
  "metadata": {
    "colab": {
      "provenance": []
    },
    "kernelspec": {
      "display_name": "Python 3",
      "name": "python3"
    },
    "language_info": {
      "name": "python"
    }
  },
  "nbformat": 4,
  "nbformat_minor": 0
}
