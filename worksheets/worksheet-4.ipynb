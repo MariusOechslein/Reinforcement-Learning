{
  "nbformat": 4,
  "nbformat_minor": 0,
  "metadata": {
    "colab": {
      "provenance": []
    },
    "kernelspec": {
      "name": "python3",
      "display_name": "Python 3"
    },
    "language_info": {
      "name": "python"
    }
  },
  "cells": [
    {
      "cell_type": "code",
      "source": [
        "import numpy as np\n",
        "import random\n",
        "class GridWorld:\n",
        "    def __init__(self, width, height, start_state, terminal_states, special_states, default_reward):\n",
        "        self.width = width\n",
        "        self.height = height\n",
        "        self.start_state = start_state\n",
        "        self.terminal_states = terminal_states\n",
        "        self.special_states = special_states\n",
        "        self.default_reward = default_reward\n",
        "        self.current_state = None\n",
        "        wind=[0, 0, 0, 1, 1, 1, 2, 2, 1, 0]\n",
        "\n",
        "    def reset(self):\n",
        "        self.current_state = self.start_state\n",
        "\n",
        "    def is_terminal(self, state):\n",
        "        return state in self.terminal_states\n",
        "\n",
        "    def is_special(self, state):\n",
        "        return state in self.special_states\n",
        "\n",
        "    def get_reward(self, state, action):\n",
        "        if self.is_terminal(state):\n",
        "            return 0\n",
        "        if self.is_special(state):\n",
        "            return self.special_states[state]\n",
        "        return self.default_reward\n",
        "\n",
        "    def move(self, action):\n",
        "        if self.current_state is None:\n",
        "            raise ValueError(\"Cannot move in an unitialized state. Please call reset() first.\")\n",
        "\n",
        "        x, y = self.current_state\n",
        "        if action == \"north\":\n",
        "            y = max(0, y-1)\n",
        "        elif action == \"south\":\n",
        "            y = min(self.height-1, y+1)\n",
        "        elif action == \"east\":\n",
        "            x = max(0, x-1)\n",
        "        elif action == \"west\":\n",
        "            x = min(self.width-1, x+1)\n",
        "        else:\n",
        "            raise ValueError(\"Invalid action: {}\".format(action))\n",
        "\n",
        "        next_state = (x, y)\n",
        "        reward = self.get_reward(next_state, action)\n",
        "        done = self.is_terminal(next_state)\n",
        "\n",
        "        self.current_state = next_state\n",
        "        return next_state, reward, done"
      ],
      "metadata": {
        "id": "w0BPmo3x0Kgz"
      },
      "execution_count": null,
      "outputs": []
    },
    {
      "cell_type": "code",
      "execution_count": null,
      "metadata": {
        "id": "M4P6jRwD22Pw",
        "colab": {
          "base_uri": "https://localhost:8080/"
        },
        "outputId": "912c8452-3261-47cf-df45-e909adde85c3"
      },
      "outputs": [
        {
          "output_type": "stream",
          "name": "stdout",
          "text": [
            "Action taken: east\n",
            "Next state: (0, 0)\n",
            "Reward received: 0\n",
            "Action taken: west\n",
            "Next state: (1, 0)\n",
            "Reward received: 0\n",
            "Action taken: east\n",
            "Next state: (0, 0)\n",
            "Reward received: 0\n",
            "Action taken: south\n",
            "Next state: (0, 1)\n",
            "Reward received: (4, 1, 10)\n",
            "Action taken: west\n",
            "Next state: (1, 1)\n",
            "Reward received: 0\n"
          ]
        }
      ],
      "source": [
        "   # create an instance of the GridWorld class\n",
        "#gw = GridWorld(width, height, start_state, terminal_states, special_states, default_reward)\n",
        "gw= GridWorld(\n",
        "    width=5,\n",
        "    height=5,\n",
        "    start_state=(0, 0),\n",
        "    terminal_states=[],\n",
        "    special_states={\n",
        "        (0, 1): (4, 1, 10),\n",
        "        (0, 3): (2, 3, 5)\n",
        "    },\n",
        "    default_reward=0\n",
        "\n",
        ")\n",
        "state = gw.reset()\n",
        "for i in range(5):\n",
        "  # call the move method with a specified action\n",
        "  action = random.choice([\"north\", \"south\", \"east\", \"west\"])\n",
        "  next_state, reward, done = gw.move(action)\n",
        "\n",
        "  # print the results\n",
        "  print(\"Action taken: {}\".format(action))\n",
        "  print(\"Next state: {}\".format(next_state))\n",
        "  print(\"Reward received: {}\".format(reward))\n"
      ]
    },
    {
      "cell_type": "code",
      "source": [
        "gw_3_5 = GridWorld(\n",
        "    width=5,\n",
        "    height=5,\n",
        "    start_state=(0, 0),\n",
        "    terminal_states=[],\n",
        "    special_states={\n",
        "        (0, 1): (4, 1, 10),\n",
        "        (0, 3): (2, 3, 5)\n",
        "    },\n",
        "    default_reward=0\n",
        "\n",
        ")\n",
        "gw_4_1 = GridWorld(\n",
        "    width=4,\n",
        "    height=4,\n",
        "    start_state=(0,0),\n",
        "    terminal_states=[(4, 4)],\n",
        "    special_states={},\n",
        "    default_reward=0\n",
        "\n",
        "\n",
        ")\n",
        "gw_6_1 = GridWorld(\n",
        "    width=7,\n",
        "    height=10,\n",
        "    start_state=(3, 0),\n",
        "    terminal_states=[(3, 7)],\n",
        "    special_states={\n",
        "        0,\n",
        "    },\n",
        "    default_reward=-1\n",
        ")\n",
        "\n",
        "gw_6_6 = GridWorld(\n",
        "    width=12,\n",
        "    height=4,\n",
        "    start_state=(4, 0),\n",
        "    terminal_states=[(4, 12)],\n",
        "    special_states={\n",
        "    (4, 1): ((4, 0), -100),\n",
        "    (4, 2): ((4, 0), -100),\n",
        "    (4, 3): ((4, 0), -100),\n",
        "    (4, 4): ((4, 0), -100),\n",
        "    (4, 5): ((4, 0), -100),\n",
        "    (4, 6): ((4, 0), -100),\n",
        "    (4, 7): ((4, 0), -100),\n",
        "    (4, 8): ((4, 0), -100),\n",
        "    (4, 9): ((4, 0), -100),\n",
        "    (4, 10): ((4, 0), -100),\n",
        "    },\n",
        "    default_reward= -1\n",
        ")\n",
        "print(\"\\nGridWorld for Example 6.6:\")\n",
        "print(\"Width: {}\".format(gw_6_6.width))\n",
        "print(\"Height: {}\".format(gw_6_6.height))\n",
        "print(\"Start State: {}\".format(gw_6_6.start_state))\n",
        "print(\"Terminal States: {}\".format(gw_6_6.terminal_states))\n",
        "print(\"Special States: {}\".format(gw_6_6.special_states))\n",
        "print(\"Default Reward: {}\".format(gw_6_6.default_reward))"
      ],
      "metadata": {
        "colab": {
          "base_uri": "https://localhost:8080/"
        },
        "id": "FZikMVe8B-s1",
        "outputId": "8a137f68-30c7-4d9d-b1e3-05f87e7d79e6"
      },
      "execution_count": null,
      "outputs": [
        {
          "output_type": "stream",
          "name": "stdout",
          "text": [
            "\n",
            "GridWorld for Example 6.6:\n",
            "Width: 12\n",
            "Height: 4\n",
            "Start State: (4, 0)\n",
            "Terminal States: [(4, 12)]\n",
            "Special States: {(4, 1): ((4, 0), -100), (4, 2): ((4, 0), -100), (4, 3): ((4, 0), -100), (4, 4): ((4, 0), -100), (4, 5): ((4, 0), -100), (4, 6): ((4, 0), -100), (4, 7): ((4, 0), -100), (4, 8): ((4, 0), -100), (4, 9): ((4, 0), -100), (4, 10): ((4, 0), -100)}\n",
            "Default Reward: -1\n"
          ]
        }
      ]
    }
  ]
}