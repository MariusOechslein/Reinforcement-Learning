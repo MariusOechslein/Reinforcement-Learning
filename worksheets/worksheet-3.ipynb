{
  "nbformat": 4,
  "nbformat_minor": 0,
  "metadata": {
    "colab": {
      "provenance": []
    },
    "kernelspec": {
      "name": "python3",
      "display_name": "Python 3"
    },
    "language_info": {
      "name": "python"
    }
  },
  "cells": [
    {
      "cell_type": "markdown",
      "source": [
        "**Ex 1)**"
      ],
      "metadata": {
        "id": "laPY3NTyeh9C"
      }
    },
    {
      "cell_type": "markdown",
      "source": [
        "Because the µ = 0 and covariance matrix Σ = I, we get a multivariative vector of dimension d by sampling d normally distributed random numbers."
      ],
      "metadata": {
        "id": "YfuNIw2gHV0-"
      }
    },
    {
      "cell_type": "code",
      "source": [
        "# Code to generate normally distributed random numbers from Worksheet 1 solution\n",
        "\n",
        "# Create sample list with random numbers following the normal distribution\n",
        "import numpy as np\n",
        "\n",
        "seed = 2**25\n",
        "seed2 = 2001\n",
        "\n",
        "# unused\n",
        "\"\"\"\n",
        "def rand_standard_distribution(mean=0.0, std=1.0):\n",
        "  x = rand_between_0_1()\n",
        "  return (1 / (std * np.sqrt(2 * np.pi))) * (np.e ** (-(1/2) * (((x - mean) / std))**2))\n",
        "def rand_between_0_1_after_standard_dist():\n",
        "  return rand_standard_distribution(seed)\n",
        "\"\"\"\n",
        "\n",
        "def rand_between_0_1():\n",
        "  global seed\n",
        "  # Create 2 indepented uniformly distributed number between 0.0 and 1.0\n",
        "  # From numerical recipes\n",
        "  a = 1664525\n",
        "  b = 1013904223\n",
        "  m = 2**32\n",
        "  Z = (a * seed + b) % m\n",
        "  seed = Z # important: override the global seed\n",
        "  return Z / m # important: to get a float value between 0 and 1\n",
        "\n",
        "def rand_between_0_1_seed2():\n",
        "  global seed2\n",
        "  # Create 2 indepented uniformly distributed number between 0.0 and 1.0\n",
        "  # From numerical recipes\n",
        "  a = 1664525\n",
        "  b = 1013904223\n",
        "  m = 2**32\n",
        "  Z = (a * seed2 + b) % m\n",
        "  seed2 = Z # important: override the global seed2\n",
        "  return Z / m # important: to get a float value between 0 and 1\n",
        "\n",
        "def normal_random_number():\n",
        "  # Indepent u\n",
        "  u1 = rand_between_0_1()\n",
        "  u2 = rand_between_0_1_seed2()\n",
        "  # get random numbers following the normal distribution\n",
        "  z1 = np.cos(2* np.pi * u1) * np.sqrt(-2 * np.log(u2))\n",
        "  return z1"
      ],
      "metadata": {
        "id": "dHln_6bqeloX"
      },
      "execution_count": null,
      "outputs": []
    },
    {
      "cell_type": "code",
      "source": [
        "dimensions = [2, 5, 10]\n",
        "sizes = [10, 100, 1000]\n",
        "\n",
        "# generate a normally distributed random vector of dimension dimension\n",
        "def random_vector_generator(dimension):\n",
        "  vector = []\n",
        "  for i in range(dimension):\n",
        "    vector.append(normal_random_number())\n",
        "  return np.array(vector)\n",
        "\n",
        "print(random_vector_generator(2))\n",
        "\n"
      ],
      "metadata": {
        "colab": {
          "base_uri": "https://localhost:8080/"
        },
        "id": "s9c9sBO7frLO",
        "outputId": "6dae5092-f602-49f4-f871-a09f069c2dcc"
      },
      "execution_count": null,
      "outputs": [
        {
          "output_type": "stream",
          "name": "stdout",
          "text": [
            "[-1.56263063 -0.57792262]\n"
          ]
        }
      ]
    },
    {
      "cell_type": "code",
      "source": [
        "def mean_estimate(samples):\n",
        "  n_samples, n_dimensions = samples.shape\n",
        "  return np.mean(samples, axis=0)\n",
        "\n",
        "def covariance_estimate(samples):\n",
        "  n_samples, n_dimensions = samples.shape\n",
        "  mean = mean_estimate(samples)\n",
        "  covariance = np.zeros((n_dimensions, n_dimensions))\n",
        "  for i in range(n_samples):\n",
        "      covariance += (samples[i] - mean).reshape((-1,1)) * (samples[i] - mean).reshape((1,-1))\n",
        "  covariance /= n_samples\n",
        "  return covariance\n",
        "\n",
        "# validate the estimated parameters\n",
        "def validation(dimensions, size):\n",
        "  for d in dimensions:\n",
        "    vectors = []\n",
        "    for i in range(size):\n",
        "      vectors.append(random_vector_generator(d))\n",
        "\n",
        "    sample_mean = mean_estimate(np.array(vectors))\n",
        "    sample_cov = covariance_estimate(np.array(vectors))\n",
        "\n",
        "    # compute true mean and covariance matrix\n",
        "    true_mean = np.zeros(d)\n",
        "    true_cov = np.identity(d)\n",
        "    # compute MSE of parameter estimates\n",
        "    mean_mse = np.mean((sample_mean - true_mean)**2)\n",
        "    cov_mse = np.mean((sample_cov - true_cov)**2)\n",
        "\n",
        "    # print results\n",
        "    print(f\"Sample set size: {size}, Dimension: {d}\")\n",
        "    print(f\"Estimated mean: \\n{sample_mean}\")\n",
        "    print(f\"True mean: \\n {true_mean}\")\n",
        "    print(f\"Mean MSE: {mean_mse}\")\n",
        "    print(f\"Estimated covariance matrix: \\n{sample_cov}\")\n",
        "    print(f\"True covariance matrix: \\n{true_cov}\")\n",
        "    print(f\"Covariance matrix MSE: {cov_mse}\")\n",
        "    print()\n",
        "\n",
        "def sample_set_size_study(dimensions, sizes):\n",
        "  for s in sizes:\n",
        "    validation(dimensions, s)\n",
        "\n",
        "sample_set_size_study(dimensions, sizes)\n"
      ],
      "metadata": {
        "colab": {
          "base_uri": "https://localhost:8080/"
        },
        "id": "EvhEmWvrKGTV",
        "outputId": "5e3c9977-8702-40cb-ceb3-3660e312e4f0"
      },
      "execution_count": null,
      "outputs": [
        {
          "output_type": "stream",
          "name": "stdout",
          "text": [
            "Sample set size: 10, Dimension: 2\n",
            "Estimated mean: \n",
            "[0.09912662 0.39668162]\n",
            "True mean: \n",
            " [0. 0.]\n",
            "Mean MSE: 0.0835911963762192\n",
            "Estimated covariance matrix: \n",
            "[[0.35559796 0.25127093]\n",
            " [0.25127093 0.83001832]]\n",
            "True covariance matrix: \n",
            "[[1. 0.]\n",
            " [0. 1.]]\n",
            "Covariance matrix MSE: 0.14260548105546372\n",
            "\n",
            "Sample set size: 10, Dimension: 5\n",
            "Estimated mean: \n",
            "[ 0.04242424  0.16258753 -0.20501169 -0.1454432   0.22578851]\n",
            "True mean: \n",
            " [0. 0. 0. 0. 0.]\n",
            "Mean MSE: 0.02847969776731981\n",
            "Estimated covariance matrix: \n",
            "[[ 1.34577543  0.06483323 -0.04003977  0.08596539 -0.01015394]\n",
            " [ 0.06483323  0.71523397 -0.18687261  0.22484735  0.4770102 ]\n",
            " [-0.04003977 -0.18687261  0.6870667   0.10791936 -0.17414884]\n",
            " [ 0.08596539  0.22484735  0.10791936  0.60380933  0.29663691]\n",
            " [-0.01015394  0.4770102  -0.17414884  0.29663691  0.75116609]]\n",
            "True covariance matrix: \n",
            "[[1. 0. 0. 0. 0.]\n",
            " [0. 1. 0. 0. 0.]\n",
            " [0. 0. 1. 0. 0.]\n",
            " [0. 0. 0. 1. 0.]\n",
            " [0. 0. 0. 0. 1.]]\n",
            "Covariance matrix MSE: 0.057201315707774605\n",
            "\n",
            "Sample set size: 10, Dimension: 10\n",
            "Estimated mean: \n",
            "[ 0.55921724  0.14036317 -0.10901556  0.14888998 -0.29749336 -0.47146299\n",
            "  0.45716244 -0.41008513 -0.37578376 -0.00668822]\n",
            "True mean: \n",
            " [0. 0. 0. 0. 0. 0. 0. 0. 0. 0.]\n",
            "Mean MSE: 0.11956834871958658\n",
            "Estimated covariance matrix: \n",
            "[[ 1.54934148 -0.47374217  0.22044652 -0.19985336  0.25777228 -0.64031062\n",
            "  -0.67954213 -0.66714001  0.2706225  -0.03082788]\n",
            " [-0.47374217  0.35445088 -0.34178072 -0.26334699 -0.17406975  0.33580369\n",
            "   0.12470491  0.36624346 -0.10580018  0.33730144]\n",
            " [ 0.22044652 -0.34178072  0.75696416  0.59242538  0.44113441 -0.18956311\n",
            "   0.14535781 -0.5881943   0.15588963 -0.40916322]\n",
            " [-0.19985336 -0.26334699  0.59242538  0.91373812  0.19130162 -0.14047091\n",
            "   0.2803304  -0.38928991 -0.06926838 -0.66655769]\n",
            " [ 0.25777228 -0.17406975  0.44113441  0.19130162  0.52306756  0.00233277\n",
            "  -0.00530963 -0.49085868  0.03481748 -0.23444854]\n",
            " [-0.64031062  0.33580369 -0.18956311 -0.14047091  0.00233277  0.49253158\n",
            "   0.2269276   0.23678911 -0.23001258  0.12859306]\n",
            " [-0.67954213  0.12470491  0.14535781  0.2803304  -0.00530963  0.2269276\n",
            "   1.23930722  0.0806156   0.27945793 -0.16575844]\n",
            " [-0.66714001  0.36624346 -0.5881943  -0.38928991 -0.49085868  0.23678911\n",
            "   0.0806156   1.17472875 -0.57523861  0.60218708]\n",
            " [ 0.2706225  -0.10580018  0.15588963 -0.06926838  0.03481748 -0.23001258\n",
            "   0.27945793 -0.57523861  1.1796184  -0.09807647]\n",
            " [-0.03082788  0.33730144 -0.40916322 -0.66655769 -0.23444854  0.12859306\n",
            "  -0.16575844  0.60218708 -0.09807647  0.9541183 ]]\n",
            "True covariance matrix: \n",
            "[[1. 0. 0. 0. 0. 0. 0. 0. 0. 0.]\n",
            " [0. 1. 0. 0. 0. 0. 0. 0. 0. 0.]\n",
            " [0. 0. 1. 0. 0. 0. 0. 0. 0. 0.]\n",
            " [0. 0. 0. 1. 0. 0. 0. 0. 0. 0.]\n",
            " [0. 0. 0. 0. 1. 0. 0. 0. 0. 0.]\n",
            " [0. 0. 0. 0. 0. 1. 0. 0. 0. 0.]\n",
            " [0. 0. 0. 0. 0. 0. 1. 0. 0. 0.]\n",
            " [0. 0. 0. 0. 0. 0. 0. 1. 0. 0.]\n",
            " [0. 0. 0. 0. 0. 0. 0. 0. 1. 0.]\n",
            " [0. 0. 0. 0. 0. 0. 0. 0. 0. 1.]]\n",
            "Covariance matrix MSE: 0.12471357800574971\n",
            "\n",
            "Sample set size: 100, Dimension: 2\n",
            "Estimated mean: \n",
            "[0.0982212  0.00623933]\n",
            "True mean: \n",
            " [0. 0.]\n",
            "Mean MSE: 0.004843166809169922\n",
            "Estimated covariance matrix: \n",
            "[[1.21458114 0.01950365]\n",
            " [0.01950365 0.81624604]]\n",
            "True covariance matrix: \n",
            "[[1. 0.]\n",
            " [0. 1.]]\n",
            "Covariance matrix MSE: 0.020142841653945552\n",
            "\n",
            "Sample set size: 100, Dimension: 5\n",
            "Estimated mean: \n",
            "[ 0.03834517 -0.04772434 -0.04619184  0.09184167  0.12164542]\n",
            "True mean: \n",
            " [0. 0. 0. 0. 0.]\n",
            "Mean MSE: 0.005822830539767582\n",
            "Estimated covariance matrix: \n",
            "[[ 1.04393566 -0.06911904 -0.02298258  0.06623231  0.15449848]\n",
            " [-0.06911904  0.86636663 -0.06135271  0.02946309  0.18978055]\n",
            " [-0.02298258 -0.06135271  1.0002906   0.04413155  0.04240147]\n",
            " [ 0.06623231  0.02946309  0.04413155  0.96923809  0.00518425]\n",
            " [ 0.15449848  0.18978055  0.04240147  0.00518425  0.96060573]]\n",
            "True covariance matrix: \n",
            "[[1. 0. 0. 0. 0.]\n",
            " [0. 1. 0. 0. 0.]\n",
            " [0. 0. 1. 0. 0.]\n",
            " [0. 0. 0. 1. 0.]\n",
            " [0. 0. 0. 0. 1.]]\n",
            "Covariance matrix MSE: 0.007130130843678223\n",
            "\n",
            "Sample set size: 100, Dimension: 10\n",
            "Estimated mean: \n",
            "[-0.13851191  0.00075333  0.05461947  0.08056853  0.20811597 -0.11214257\n",
            " -0.08372691 -0.07208711  0.09913435  0.0925158 ]\n",
            "True mean: \n",
            " [0. 0. 0. 0. 0. 0. 0. 0. 0. 0.]\n",
            "Mean MSE: 0.011514244299941767\n",
            "Estimated covariance matrix: \n",
            "[[ 9.91394234e-01  5.33714887e-03  9.87039815e-02  5.41990833e-02\n",
            "   9.59186424e-02  1.44747303e-01  2.10588743e-02  1.48080616e-01\n",
            "  -1.46324240e-01  4.40487373e-02]\n",
            " [ 5.33714887e-03  7.47402464e-01 -9.38969038e-02  1.50457300e-01\n",
            "   3.70377375e-02  7.06292597e-02 -7.13733955e-02 -1.43743929e-02\n",
            "  -5.79337356e-02  8.62811521e-02]\n",
            " [ 9.87039815e-02 -9.38969038e-02  1.01797675e+00  1.11620069e-03\n",
            "   6.86353399e-03  8.66747505e-03 -7.05984902e-03  3.80207578e-02\n",
            "   1.41287358e-01 -9.21992886e-02]\n",
            " [ 5.41990833e-02  1.50457300e-01  1.11620069e-03  8.39402773e-01\n",
            "   1.12059634e-02  2.12542806e-02  4.38824177e-02  2.07992188e-01\n",
            "  -5.01293370e-02  8.61618199e-02]\n",
            " [ 9.59186424e-02  3.70377375e-02  6.86353399e-03  1.12059634e-02\n",
            "   1.17315679e+00 -4.86180697e-02  1.03676323e-01  9.57270312e-03\n",
            "   2.39917937e-02  1.37555663e-01]\n",
            " [ 1.44747303e-01  7.06292597e-02  8.66747505e-03  2.12542806e-02\n",
            "  -4.86180697e-02  1.09494089e+00 -3.40760927e-03 -6.92790878e-02\n",
            "   1.15241499e-01  7.89567955e-02]\n",
            " [ 2.10588743e-02 -7.13733955e-02 -7.05984902e-03  4.38824177e-02\n",
            "   1.03676323e-01 -3.40760927e-03  7.06970526e-01 -1.79539734e-02\n",
            "   7.53098635e-02  2.49110483e-02]\n",
            " [ 1.48080616e-01 -1.43743929e-02  3.80207578e-02  2.07992188e-01\n",
            "   9.57270312e-03 -6.92790878e-02 -1.79539734e-02  1.08494039e+00\n",
            "  -9.21566870e-02  3.89318573e-02]\n",
            " [-1.46324240e-01 -5.79337356e-02  1.41287358e-01 -5.01293370e-02\n",
            "   2.39917937e-02  1.15241499e-01  7.53098635e-02 -9.21566870e-02\n",
            "   9.62365045e-01  3.46871649e-02]\n",
            " [ 4.40487373e-02  8.62811521e-02 -9.21992886e-02  8.61618199e-02\n",
            "   1.37555663e-01  7.89567955e-02  2.49110483e-02  3.89318573e-02\n",
            "   3.46871649e-02  1.14684218e+00]]\n",
            "True covariance matrix: \n",
            "[[1. 0. 0. 0. 0. 0. 0. 0. 0. 0.]\n",
            " [0. 1. 0. 0. 0. 0. 0. 0. 0. 0.]\n",
            " [0. 0. 1. 0. 0. 0. 0. 0. 0. 0.]\n",
            " [0. 0. 0. 1. 0. 0. 0. 0. 0. 0.]\n",
            " [0. 0. 0. 0. 1. 0. 0. 0. 0. 0.]\n",
            " [0. 0. 0. 0. 0. 1. 0. 0. 0. 0.]\n",
            " [0. 0. 0. 0. 0. 0. 1. 0. 0. 0.]\n",
            " [0. 0. 0. 0. 0. 0. 0. 1. 0. 0.]\n",
            " [0. 0. 0. 0. 0. 0. 0. 0. 1. 0.]\n",
            " [0. 0. 0. 0. 0. 0. 0. 0. 0. 1.]]\n",
            "Covariance matrix MSE: 0.0085132084957473\n",
            "\n",
            "Sample set size: 1000, Dimension: 2\n",
            "Estimated mean: \n",
            "[-0.04632892 -0.01904995]\n",
            "True mean: \n",
            " [0. 0.]\n",
            "Mean MSE: 0.0012546349694537323\n",
            "Estimated covariance matrix: \n",
            "[[1.08210605 0.01315065]\n",
            " [0.01315065 0.93407748]]\n",
            "True covariance matrix: \n",
            "[[1. 0.]\n",
            " [0. 1.]]\n",
            "Covariance matrix MSE: 0.0028582654602719\n",
            "\n",
            "Sample set size: 1000, Dimension: 5\n",
            "Estimated mean: \n",
            "[-0.03898799 -0.03034562 -0.0073849   0.03387432 -0.00074878]\n",
            "True mean: \n",
            " [0. 0. 0. 0. 0.]\n",
            "Mean MSE: 0.000728697543022719\n",
            "Estimated covariance matrix: \n",
            "[[ 1.04598285  0.05865675 -0.00185464  0.0048716  -0.01244484]\n",
            " [ 0.05865675  0.95347367 -0.04606208  0.01736049 -0.02426735]\n",
            " [-0.00185464 -0.04606208  1.01573347 -0.02038059 -0.0019792 ]\n",
            " [ 0.0048716   0.01736049 -0.02038059  1.01337857 -0.03952127]\n",
            " [-0.01244484 -0.02426735 -0.0019792  -0.03952127  0.99351029]]\n",
            "True covariance matrix: \n",
            "[[1. 0. 0. 0. 0.]\n",
            " [0. 1. 0. 0. 0.]\n",
            " [0. 0. 1. 0. 0.]\n",
            " [0. 0. 0. 1. 0.]\n",
            " [0. 0. 0. 0. 1.]]\n",
            "Covariance matrix MSE: 0.0008791813286739607\n",
            "\n",
            "Sample set size: 1000, Dimension: 10\n",
            "Estimated mean: \n",
            "[-0.02590113  0.01126481  0.04751735 -0.03833527 -0.00787681  0.00203267\n",
            "  0.0177548  -0.05740587  0.00252973  0.02108546]\n",
            "True mean: \n",
            " [0. 0. 0. 0. 0. 0. 0. 0. 0. 0.]\n",
            "Mean MSE: 0.0008653095823466228\n",
            "Estimated covariance matrix: \n",
            "[[ 9.73178438e-01  2.84257323e-02  1.94034483e-02  1.15001026e-02\n",
            "  -1.20422323e-02  2.47008098e-02  6.45764648e-02  7.75042598e-02\n",
            "   1.36040268e-02 -2.72034691e-03]\n",
            " [ 2.84257323e-02  9.98613652e-01  1.20921904e-03 -4.81848391e-02\n",
            "   2.75069999e-02  8.79257663e-02 -5.45479436e-02  7.42262043e-02\n",
            "  -1.45628367e-02 -6.80959584e-03]\n",
            " [ 1.94034483e-02  1.20921904e-03  9.95754118e-01  3.70527968e-02\n",
            "  -5.52654760e-02  9.92658158e-04  2.63572387e-02  2.61024396e-02\n",
            "  -1.29077634e-02  3.37463017e-02]\n",
            " [ 1.15001026e-02 -4.81848391e-02  3.70527968e-02  9.65732015e-01\n",
            "  -2.98134830e-02 -5.92625477e-02  3.38463608e-02 -3.57034832e-02\n",
            "   3.06781110e-02  6.19936196e-03]\n",
            " [-1.20422323e-02  2.75069999e-02 -5.52654760e-02 -2.98134830e-02\n",
            "   9.72030746e-01  9.76247179e-03  1.37140956e-02  2.75773071e-03\n",
            "   2.93293797e-02 -1.32388976e-02]\n",
            " [ 2.47008098e-02  8.79257663e-02  9.92658158e-04 -5.92625477e-02\n",
            "   9.76247179e-03  1.00110683e+00 -1.18084417e-02  7.25738657e-03\n",
            "   1.13061531e-02 -1.22780360e-02]\n",
            " [ 6.45764648e-02 -5.45479436e-02  2.63572387e-02  3.38463608e-02\n",
            "   1.37140956e-02 -1.18084417e-02  1.00107310e+00  5.08037881e-02\n",
            "   7.82817720e-02 -3.00343188e-02]\n",
            " [ 7.75042598e-02  7.42262043e-02  2.61024396e-02 -3.57034832e-02\n",
            "   2.75773071e-03  7.25738657e-03  5.08037881e-02  9.85943083e-01\n",
            "  -1.89006015e-02  3.11821406e-03]\n",
            " [ 1.36040268e-02 -1.45628367e-02 -1.29077634e-02  3.06781110e-02\n",
            "   2.93293797e-02  1.13061531e-02  7.82817720e-02 -1.89006015e-02\n",
            "   9.73842038e-01  1.51066934e-02]\n",
            " [-2.72034691e-03 -6.80959584e-03  3.37463017e-02  6.19936196e-03\n",
            "  -1.32388976e-02 -1.22780360e-02 -3.00343188e-02  3.11821406e-03\n",
            "   1.51066934e-02  1.02966357e+00]]\n",
            "True covariance matrix: \n",
            "[[1. 0. 0. 0. 0. 0. 0. 0. 0. 0.]\n",
            " [0. 1. 0. 0. 0. 0. 0. 0. 0. 0.]\n",
            " [0. 0. 1. 0. 0. 0. 0. 0. 0. 0.]\n",
            " [0. 0. 0. 1. 0. 0. 0. 0. 0. 0.]\n",
            " [0. 0. 0. 0. 1. 0. 0. 0. 0. 0.]\n",
            " [0. 0. 0. 0. 0. 1. 0. 0. 0. 0.]\n",
            " [0. 0. 0. 0. 0. 0. 1. 0. 0. 0.]\n",
            " [0. 0. 0. 0. 0. 0. 0. 1. 0. 0.]\n",
            " [0. 0. 0. 0. 0. 0. 0. 0. 1. 0.]\n",
            " [0. 0. 0. 0. 0. 0. 0. 0. 0. 1.]]\n",
            "Covariance matrix MSE: 0.0012227915866484618\n",
            "\n"
          ]
        }
      ]
    },
    {
      "cell_type": "markdown",
      "source": [
        "For mean vectors µ ̸= 0 and covariance matrices Σ ̸= I, we need the Cholesky Decomposition"
      ],
      "metadata": {
        "id": "L2iwhtcMN3RB"
      }
    },
    {
      "cell_type": "code",
      "source": [
        "# sample sizes to use\n",
        "means = [[1,2],[1,2,3,4,5]]\n",
        "covariances = [\n",
        "      [[0.2, 0.3],\n",
        "       [0.1, 0.2]],\n",
        "\n",
        "       [[1, 0.5, 0.3, 0.2, 0.1],\n",
        "       [0.5, 1, 0.4, 0.3, 0.2],\n",
        "       [0.3, 0.4, 1, 0.5, 0.4],\n",
        "       [0.2, 0.3, 0.5, 1, 0.6],\n",
        "       [0.1, 0.2, 0.4, 0.6, 1]]\n",
        "]\n",
        "dimensions = [2, 5]\n",
        "\n",
        "\n",
        "def cholesky(A):\n",
        "    n = len(A)\n",
        "    L = np.zeros((n,n))\n",
        "    for i in range(n):\n",
        "        for j in range(i+1):\n",
        "            s = sum(L[i][k] * L[j][k] for k in range(j))\n",
        "            if (i == j):\n",
        "                L[i][j] = np.sqrt(A[i][i] - s)\n",
        "            else:\n",
        "                L[i][j] = (1.0 / L[j][j] * (A[i][j] - s))\n",
        "    return L\n",
        "\n",
        "def generate_normal_vector_nonzero_mean_cov_cholesky(dim, mean, cov):\n",
        "    # Compute Cholesky decomposition of covariance matrix\n",
        "    L = cholesky(cov)\n",
        "    # Generate random vector of standard normal variables\n",
        "    z = np.random.normal(0, 1, dim)\n",
        "    # Compute final random vector with desired mean and covariance\n",
        "    x = mean + np.dot(L, z)\n",
        "    return x\n",
        "\n",
        "\n",
        "for d in dimensions:\n",
        "    mean = means[dimensions.index(d)]\n",
        "    cov = covariances[dimensions.index(d)]\n",
        "    for size in sizes:\n",
        "        # generate sample set of random vectors\n",
        "        vectors = []\n",
        "        for i in range(size):\n",
        "            vectors.append(generate_normal_vector_nonzero_mean_cov_cholesky(d, mean, cov))\n",
        "\n",
        "        sample_mean = mean_estimate(np.array(vectors))\n",
        "        sample_cov = covariance_estimate(np.array(vectors))\n",
        "\n",
        "        # compute true mean and covariance matrix\n",
        "        true_mean = mean\n",
        "        true_cov = cov\n",
        "\n",
        "        # compute MSE of parameter estimates\n",
        "        mean_mse = np.mean((sample_mean - true_mean)**2)\n",
        "        cov_mse = np.mean((sample_cov - true_cov)**2)\n",
        "\n",
        "        # print results\n",
        "        print(f\"Sample set size: {size}, Dimension: {d}\")\n",
        "        print(f\"Estimated mean: {sample_mean}\")\n",
        "        print(f\"True mean: {true_mean}\")\n",
        "        print(f\"Mean MSE: {mean_mse}\")\n",
        "        print(f\"Estimated covariance matrix: {sample_cov}\")\n",
        "        print(f\"True covariance matrix: {true_cov}\")\n",
        "        print(f\"Covariance matrix MSE: {cov_mse}\")\n",
        "        print()"
      ],
      "metadata": {
        "colab": {
          "base_uri": "https://localhost:8080/"
        },
        "id": "XJ_sBDUqTQoV",
        "outputId": "7461862c-d004-4dd6-eb9b-c6288aaaf598"
      },
      "execution_count": null,
      "outputs": [
        {
          "output_type": "stream",
          "name": "stdout",
          "text": [
            "Sample set size: 10, Dimension: 2\n",
            "Estimated mean: [0.89079953 1.97248673]\n",
            "True mean: [1, 2]\n",
            "Mean MSE: 0.006340861232593027\n",
            "Estimated covariance matrix: [[0.22053946 0.11575581]\n",
            " [0.11575581 0.22428283]]\n",
            "True covariance matrix: [[0.2, 0.3], [0.1, 0.2]]\n",
            "Covariance matrix MSE: 0.00880142329421762\n",
            "\n",
            "Sample set size: 100, Dimension: 2\n",
            "Estimated mean: [1.01298102 2.00426186]\n",
            "True mean: [1, 2]\n",
            "Mean MSE: 9.333509310030867e-05\n",
            "Estimated covariance matrix: [[0.23714691 0.12723438]\n",
            " [0.12723438 0.25564905]]\n",
            "True covariance matrix: [[0.2, 0.3], [0.1, 0.2]]\n",
            "Covariance matrix MSE: 0.00876659519903719\n",
            "\n",
            "Sample set size: 1000, Dimension: 2\n",
            "Estimated mean: [0.99099244 1.98953582]\n",
            "True mean: [1, 2]\n",
            "Mean MSE: 9.531758407453912e-05\n",
            "Estimated covariance matrix: [[0.1813758  0.08870026]\n",
            " [0.08870026 0.19359927]]\n",
            "True covariance matrix: [[0.2, 0.3], [0.1, 0.2]]\n",
            "Covariance matrix MSE: 0.011290773866527864\n",
            "\n",
            "Sample set size: 10, Dimension: 5\n",
            "Estimated mean: [1.42892608 2.1129155  3.51505027 4.58427344 5.53587911]\n",
            "True mean: [1, 2, 3, 4, 5]\n",
            "Mean MSE: 0.21810923062021756\n",
            "Estimated covariance matrix: [[ 0.52274157  0.52348589  0.27679625  0.39795133  0.04756369]\n",
            " [ 0.52348589  0.67258903  0.3457911   0.22514152 -0.07897418]\n",
            " [ 0.27679625  0.3457911   0.85591618  0.3542907   0.43141014]\n",
            " [ 0.39795133  0.22514152  0.3542907   1.17910038  0.76338128]\n",
            " [ 0.04756369 -0.07897418  0.43141014  0.76338128  1.14815228]]\n",
            "True covariance matrix: [[1, 0.5, 0.3, 0.2, 0.1], [0.5, 1, 0.4, 0.3, 0.2], [0.3, 0.4, 1, 0.5, 0.4], [0.2, 0.3, 0.5, 1, 0.6], [0.1, 0.2, 0.4, 0.6, 1]]\n",
            "Covariance matrix MSE: 0.030654751865868236\n",
            "\n",
            "Sample set size: 100, Dimension: 5\n",
            "Estimated mean: [1.00208657 1.96395484 2.93896841 3.96446939 5.05414428]\n",
            "True mean: [1, 2, 3, 4, 5]\n",
            "Mean MSE: 0.0018444977208199845\n",
            "Estimated covariance matrix: [[1.09862445 0.52446792 0.36019009 0.22906917 0.12744195]\n",
            " [0.52446792 1.06615021 0.47374272 0.31295601 0.23788104]\n",
            " [0.36019009 0.47374272 1.02075369 0.52038513 0.39051353]\n",
            " [0.22906917 0.31295601 0.52038513 0.97164382 0.61510566]\n",
            " [0.12744195 0.23788104 0.39051353 0.61510566 0.92113308]]\n",
            "True covariance matrix: [[1, 0.5, 0.3, 0.2, 0.1], [0.5, 1, 0.4, 0.3, 0.2], [0.3, 0.4, 1, 0.5, 0.4], [0.2, 0.3, 0.5, 1, 0.6], [0.1, 0.2, 0.4, 0.6, 1]]\n",
            "Covariance matrix MSE: 0.0019498285061168611\n",
            "\n",
            "Sample set size: 1000, Dimension: 5\n",
            "Estimated mean: [1.04226535 1.97365557 2.97157708 3.99802067 5.00005594]\n",
            "True mean: [1, 2, 3, 4, 5]\n",
            "Mean MSE: 0.0006584344604751358\n",
            "Estimated covariance matrix: [[0.97936605 0.45540225 0.24887567 0.14377067 0.06924306]\n",
            " [0.45540225 0.97728067 0.34447322 0.26509504 0.19576439]\n",
            " [0.24887567 0.34447322 0.97601745 0.45081767 0.39949348]\n",
            " [0.14377067 0.26509504 0.45081767 0.94747315 0.6048141 ]\n",
            " [0.06924306 0.19576439 0.39949348 0.6048141  1.05278419]]\n",
            "True covariance matrix: [[1, 0.5, 0.3, 0.2, 0.1], [0.5, 1, 0.4, 0.3, 0.2], [0.3, 0.4, 1, 0.5, 0.4], [0.2, 0.3, 0.5, 1, 0.6], [0.1, 0.2, 0.4, 0.6, 1]]\n",
            "Covariance matrix MSE: 0.0015202722133942428\n",
            "\n"
          ]
        }
      ]
    },
    {
      "cell_type": "markdown",
      "source": [
        "**Ex 2)**"
      ],
      "metadata": {
        "id": "af5iInCremlK"
      }
    },
    {
      "cell_type": "markdown",
      "source": [
        "Estimate Without Importance Sampling"
      ],
      "metadata": {
        "id": "3VL6FQB0eLNt"
      }
    },
    {
      "cell_type": "code",
      "source": [
        "def estimate_count_without_importance_sampling(theta, N):\n",
        "  count = 0\n",
        "  for i in range(N):\n",
        "    random_normal = np.random.normal(0, 1)\n",
        "    if random_normal < theta:\n",
        "      count = count + 1\n",
        "  return count/N"
      ],
      "metadata": {
        "id": "R2TJ5sKGeQBY"
      },
      "execution_count": null,
      "outputs": []
    },
    {
      "cell_type": "markdown",
      "source": [
        "Using Normal Distribution as proposal distribution"
      ],
      "metadata": {
        "id": "YoxivorHZzKG"
      }
    },
    {
      "cell_type": "code",
      "source": [
        "import numpy as np\n",
        "import matplotlib.pyplot as plt\n",
        "\n",
        "thetas = []\n",
        "plot_without = []\n",
        "plot_with = []\n",
        "\n",
        "def target_distribution(x):\n",
        "    return np.exp(-0.5 * x**2) / np.sqrt(2 * np.pi)\n",
        "\n",
        "# Use a normal distribution as a proposal distribution\n",
        "def proposal_distribution(x, mu, sigma):\n",
        "    return np.exp(-0.5 * ((x - mu) / sigma)**2) / (sigma * np.sqrt(2 * np.pi))\n",
        "\n",
        "for theta in range(-20, 22, 2):\n",
        "  samples_size = 100000 # Number of samples\n",
        "  mu_target = 0  # mean of target distribution\n",
        "  sigma_target = 1  # standard deviation of target distribution\n",
        "  mu_proposal = 0  # mean of proposal distribution\n",
        "  sigma_proposal = 5  # standard deviation of proposal distribution\n",
        "\n",
        "  proposal_samples = np.random.normal(mu_proposal, sigma_proposal, samples_size)\n",
        "  weights = target_distribution(proposal_samples) / proposal_distribution(proposal_samples, mu_proposal, sigma_proposal)\n",
        "\n",
        "  estimate_without = estimate_count_without_importance_sampling(theta, samples_size)\n",
        "  estimate_with = np.mean(proposal_samples < theta) * np.mean(weights)\n",
        "\n",
        "  print(\"Estimation with importance less than theta {}: {} / Estimation Without importance: {}\".format(theta, estimate_with, estimate_without))\n",
        "\n",
        "  thetas.append(theta)\n",
        "  plot_without.append(estimate_without)\n",
        "  plot_with.append(estimate_with)\n",
        "\n",
        "plt.plot(thetas, plot_without, label='Estimation Without Importance Sampling')\n",
        "plt.plot(thetas, plot_with, label='Estimation With Importance Sampling')\n",
        "\n",
        "# Add labels and legend\n",
        "plt.xlabel('Theta')\n",
        "plt.ylabel('Estimation')\n",
        "plt.legend()\n",
        "\n",
        "# Show the plot\n",
        "plt.show()\n"
      ],
      "metadata": {
        "colab": {
          "base_uri": "https://localhost:8080/",
          "height": 824
        },
        "id": "Y7KQ5W55eDaa",
        "outputId": "8a6f8c89-154f-45ab-e4f5-2cd3925898f1"
      },
      "execution_count": null,
      "outputs": [
        {
          "output_type": "stream",
          "name": "stdout",
          "text": [
            "Estimation with importance less than theta -20: 3.0073530544719737e-05 / Estimation Without importance: 0.0\n",
            "Estimation with importance less than theta -18: 0.00020882326575247844 / Estimation Without importance: 0.0\n",
            "Estimation with importance less than theta -16: 0.0005353634387858845 / Estimation Without importance: 0.0\n",
            "Estimation with importance less than theta -14: 0.0028366565409714394 / Estimation Without importance: 0.0\n",
            "Estimation with importance less than theta -12: 0.008144261712303643 / Estimation Without importance: 0.0\n",
            "Estimation with importance less than theta -10: 0.022420371920535018 / Estimation Without importance: 0.0\n",
            "Estimation with importance less than theta -8: 0.05526510012823518 / Estimation Without importance: 0.0\n",
            "Estimation with importance less than theta -6: 0.11423345423801033 / Estimation Without importance: 0.0\n",
            "Estimation with importance less than theta -4: 0.21176907545605148 / Estimation Without importance: 7e-05\n",
            "Estimation with importance less than theta -2: 0.34455051965016614 / Estimation Without importance: 0.02376\n",
            "Estimation with importance less than theta 0: 0.49969739397602275 / Estimation Without importance: 0.50057\n",
            "Estimation with importance less than theta 2: 0.6548039273187376 / Estimation Without importance: 0.97745\n",
            "Estimation with importance less than theta 4: 0.7888237630765197 / Estimation Without importance: 0.99996\n",
            "Estimation with importance less than theta 6: 0.8864678029251046 / Estimation Without importance: 1.0\n",
            "Estimation with importance less than theta 8: 0.9495961140756198 / Estimation Without importance: 1.0\n",
            "Estimation with importance less than theta 10: 0.97344788444198 / Estimation Without importance: 1.0\n",
            "Estimation with importance less than theta 12: 0.9869794982753338 / Estimation Without importance: 1.0\n",
            "Estimation with importance less than theta 14: 0.9965562512224354 / Estimation Without importance: 1.0\n",
            "Estimation with importance less than theta 16: 0.9854243461318011 / Estimation Without importance: 1.0\n",
            "Estimation with importance less than theta 18: 0.9994860821482994 / Estimation Without importance: 1.0\n",
            "Estimation with importance less than theta 20: 1.0042853053168692 / Estimation Without importance: 1.0\n"
          ]
        },
        {
          "output_type": "display_data",
          "data": {
            "text/plain": [
              "<Figure size 640x480 with 1 Axes>"
            ],
            "image/png": "[encoded data removed]"
          },
          "metadata": {}
        }
      ]
    },
    {
      "cell_type": "markdown",
      "source": [
        "Using Uniform Distribution as proposal distribution"
      ],
      "metadata": {
        "id": "cjCS14wNoMtP"
      }
    },
    {
      "cell_type": "code",
      "source": [
        "import numpy as np\n",
        "import matplotlib.pyplot as plt\n",
        "\n",
        "thetas = []\n",
        "plot_without = []\n",
        "plot_with = []\n",
        "\n",
        "def target_distribution(x):\n",
        "    return 1 / np.sqrt(2 * np.pi) * np.exp(-x**2 / 2)\n",
        "\n",
        "# Use a normal distribution as a proposal distribution\n",
        "def proposal_distribution(x, a):\n",
        "    return 1 / (2 * a)\n",
        "\n",
        "for theta in range(-20, 22, 2):\n",
        "  samples_size = 10000\n",
        "  width = 22  # Width of the uniform distribution\n",
        "\n",
        "  proposal_samples = np.random.uniform(-width, width, samples_size)\n",
        "  weights = target_distribution(proposal_samples) / proposal_distribution(proposal_samples, width)\n",
        "\n",
        "  estimate_without = estimate_count_without_importance_sampling(theta, samples_size)\n",
        "  estimate_with = np.mean(proposal_samples < theta) * np.mean(weights)\n",
        "\n",
        "  print(\"Estimation with importance less than theta {}: {} / Estimation Without importance: {}\".format(theta, estimate_with, estimate_without))\n",
        "\n",
        "  thetas.append(theta)\n",
        "  plot_without.append(estimate_without)\n",
        "  plot_with.append(estimate_with)\n",
        "\n",
        "plt.plot(thetas, plot_without, label='Estimation Without Importance Sampling')\n",
        "plt.plot(thetas, plot_with, label='Estimation With Importance Sampling')\n",
        "\n",
        "# Add labels and legend\n",
        "plt.xlabel('Theta')\n",
        "plt.ylabel('Estimation')\n",
        "plt.legend()\n",
        "\n",
        "# Show the plot\n",
        "plt.show()\n"
      ],
      "metadata": {
        "colab": {
          "base_uri": "https://localhost:8080/",
          "height": 824
        },
        "id": "IPjB8Rk5f0JC",
        "outputId": "139fd3be-8ebf-4f7d-897c-a88b0a693bfc"
      },
      "execution_count": null,
      "outputs": [
        {
          "output_type": "stream",
          "name": "stdout",
          "text": [
            "Estimation with importance less than theta -20: 0.04599692458817604 / Estimation Without importance: 0.0\n",
            "Estimation with importance less than theta -18: 0.09590592652480315 / Estimation Without importance: 0.0\n",
            "Estimation with importance less than theta -16: 0.13147934530891767 / Estimation Without importance: 0.0\n",
            "Estimation with importance less than theta -14: 0.1853282029368019 / Estimation Without importance: 0.0\n",
            "Estimation with importance less than theta -12: 0.22811888124967158 / Estimation Without importance: 0.0\n",
            "Estimation with importance less than theta -10: 0.28588844199198915 / Estimation Without importance: 0.0\n",
            "Estimation with importance less than theta -8: 0.3143536256550077 / Estimation Without importance: 0.0\n",
            "Estimation with importance less than theta -6: 0.3644114112690955 / Estimation Without importance: 0.0\n",
            "Estimation with importance less than theta -4: 0.4108052509529725 / Estimation Without importance: 0.0001\n",
            "Estimation with importance less than theta -2: 0.4279467347801548 / Estimation Without importance: 0.021\n",
            "Estimation with importance less than theta 0: 0.510695708549368 / Estimation Without importance: 0.4959\n",
            "Estimation with importance less than theta 2: 0.5566070607839405 / Estimation Without importance: 0.9778\n",
            "Estimation with importance less than theta 4: 0.5959193433741586 / Estimation Without importance: 1.0\n",
            "Estimation with importance less than theta 6: 0.6220252804485454 / Estimation Without importance: 1.0\n",
            "Estimation with importance less than theta 8: 0.6756969218031343 / Estimation Without importance: 1.0\n",
            "Estimation with importance less than theta 10: 0.7817239761151097 / Estimation Without importance: 1.0\n",
            "Estimation with importance less than theta 12: 0.763580461143689 / Estimation Without importance: 1.0\n",
            "Estimation with importance less than theta 14: 0.8774139839817735 / Estimation Without importance: 1.0\n",
            "Estimation with importance less than theta 16: 0.8531121753616178 / Estimation Without importance: 1.0\n",
            "Estimation with importance less than theta 18: 0.8521277076596986 / Estimation Without importance: 1.0\n",
            "Estimation with importance less than theta 20: 0.9204173651442464 / Estimation Without importance: 1.0\n"
          ]
        },
        {
          "output_type": "display_data",
          "data": {
            "text/plain": [
              "<Figure size 640x480 with 1 Axes>"
            ],
            "image/png": "[encoded data removed]"
          },
          "metadata": {}
        }
      ]
    },
    {
      "cell_type": "markdown",
      "source": [
        "**Ex 3)**"
      ],
      "metadata": {
        "id": "9eBh_sysa8lE"
      }
    },
    {
      "cell_type": "code",
      "source": [
        "import numpy as np\n",
        "\n",
        "# Uniformly distributed sample using random numbers\n",
        "lower_bound = -0.5\n",
        "upper_bound = 0.5\n",
        "radius = 0.3\n",
        "size = 1000\n",
        "x = np.random.uniform(lower_bound, upper_bound, size)\n",
        "y = np.random.uniform(lower_bound, upper_bound, size)"
      ],
      "metadata": {
        "id": "IMqlEs_cUXGe"
      },
      "execution_count": null,
      "outputs": []
    },
    {
      "cell_type": "code",
      "source": [
        "import matplotlib.pyplot as plt\n",
        "import numpy as np\n",
        "\n",
        "# Define circle parameters\n",
        "circle_center = (0, 0)\n",
        "\n",
        "# Create figure and axes\n",
        "fig, ax = plt.subplots()\n",
        "\n",
        "# Plot the circle\n",
        "circle = plt.Circle(circle_center, radius, fill=False, color='r')\n",
        "ax.add_patch(circle)\n",
        "\n",
        "# Plot the points\n",
        "ax.scatter(x, y, s=1, color='b', label='Points')\n",
        "\n",
        "# Set axis limits\n",
        "ax.set_xlim(-0.5, 0.5)\n",
        "ax.set_ylim(-0.5, 0.5)\n",
        "\n",
        "# Set labels and title\n",
        "ax.set_xlabel('X')\n",
        "ax.set_ylabel('Y')\n",
        "\n",
        "# Add legend\n",
        "ax.legend()\n",
        "\n",
        "# Set aspect ratio to 'equal'\n",
        "ax.set_aspect('equal')\n",
        "\n",
        "# Show the plot\n",
        "plt.show()"
      ],
      "metadata": {
        "colab": {
          "base_uri": "https://localhost:8080/",
          "height": 449
        },
        "id": "gqEyrU8LW3Ff",
        "outputId": "570de4c4-0873-49fb-8e62-891b80d3079f"
      },
      "execution_count": null,
      "outputs": [
        {
          "output_type": "display_data",
          "data": {
            "text/plain": [
              "<Figure size 640x480 with 1 Axes>"
            ],
            "image/png": "[encoded data removed]"
          },
          "metadata": {}
        }
      ]
    },
    {
      "cell_type": "code",
      "source": [
        "import math\n",
        "\n",
        "def percentage_points_inside_circle(size, x, y, radius):\n",
        "  counter = 0\n",
        "  for i in range(size):\n",
        "    if(math.sqrt(x[i]**2 + y[i]**2) < radius):\n",
        "      counter = counter + 1\n",
        "  return counter/size\n",
        "\n",
        "estimated_area = percentage_points_inside_circle(size, x, y, radius)\n",
        "actual_area = radius**2 * math.pi\n",
        "\n",
        "print(\"The estimated area is {}\". format(estimated_area))\n",
        "print(\"The actual area is {}\". format(actual_area))"
      ],
      "metadata": {
        "colab": {
          "base_uri": "https://localhost:8080/"
        },
        "id": "eHHZXln8fIX8",
        "outputId": "881ede4c-6d57-40c2-d37c-73e9fd8398d1"
      },
      "execution_count": null,
      "outputs": [
        {
          "output_type": "stream",
          "name": "stdout",
          "text": [
            "The estimated area is 0.293\n",
            "The actual area is 0.2827433388230814\n"
          ]
        }
      ]
    },
    {
      "cell_type": "code",
      "source": [
        "small_radius = 10^-10\n",
        "\n",
        "estimated_area = percentage_points_inside_circle(size, x, y, small_radius)\n",
        "actual_area = radius**2 * math.pi\n",
        "\n",
        "print(\"The estimated area is {}\". format(estimated_area))\n",
        "print(\"The actual area is {}\". format(actual_area))"
      ],
      "metadata": {
        "colab": {
          "base_uri": "https://localhost:8080/"
        },
        "id": "UgZ_SzeQyp2p",
        "outputId": "e371a06e-5e79-4954-bf80-def0f2accf16"
      },
      "execution_count": null,
      "outputs": [
        {
          "output_type": "stream",
          "name": "stdout",
          "text": [
            "The estimated area is 0.0\n",
            "The actual area is 0.2827433388230814\n"
          ]
        }
      ]
    },
    {
      "cell_type": "code",
      "source": [
        "#Part C\n",
        "# What happens to your estimation when r gets very small (e.g. r = 10−10)? Find a solution for\n",
        "# the problem using Importance Sampling. Use and compare two di\u001berent proposal distributions.\n",
        "def GenerateDifferentDistribution(noOfSamples):\n",
        "\n",
        "  # Set the radius of the circle\n",
        "  radius = 1e-10\n",
        "\n",
        "  # Set the side length of the square\n",
        "  L = 2 * radius\n",
        "\n",
        "  # Define the target distribution\n",
        "  def target(x, y):\n",
        "      return 1 if x**2 + y**2 <= radius**2 else 0\n",
        "\n",
        "  # Define the first proposal distribution\n",
        "  def proposal1(x, y):\n",
        "      return 1 / L**2\n",
        "\n",
        "  # Define the second proposal distribution\n",
        "  def proposal2(x, y,):\n",
        "      return 1 / (2 * radius)**2\n",
        "\n",
        "  # Generate the random samples using the first proposal distribution\n",
        "  samples1 = []\n",
        "  weights1 = []\n",
        "  for i in range(noOfSamples):\n",
        "      # Generate a random uniform point in the square\n",
        "      x = np.random.uniform(-radius, radius)\n",
        "      y = np.random.uniform(-radius, radius)\n",
        "\n",
        "      # Compute the weight\n",
        "      weight = target(x, y) / proposal1(x, y)\n",
        "\n",
        "      # Append the sample and weight\n",
        "      samples1.append([x, y])\n",
        "      weights1.append(weight)\n",
        "\n",
        "  # Generate the random samples using the second proposal distribution\n",
        "  samples2 = []\n",
        "  weights2 = []\n",
        "  for i in range(noOfSamples):\n",
        "      # Generate a random normal point in the circle\n",
        "      x = np.random.normal(-radius, radius)\n",
        "      y = np.random.normal(-radius, radius)\n",
        "\n",
        "      # Compute the weight\n",
        "      weight = target(x, y) / proposal2(x, y)\n",
        "\n",
        "      # Append the sample and weight\n",
        "      samples2.append([x, y])\n",
        "      weights2.append(weight)\n",
        "\n",
        "  # Convert the samples to NumPy arrays\n",
        "  samples1 = np.array(samples1)\n",
        "  samples2 = np.array(samples2)\n",
        "\n",
        "  # Estimate the area covered by the circle using the first proposal distribution\n",
        "  area_estimate1 = np.sum(weights1) / len(weights1) * L**2\n",
        "\n",
        "  # Estimate the area covered by the circle using the second proposal distribution\n",
        "  area_estimate2 = np.sum(weights2) / len(weights2) * (2 * radius)**2\n",
        "\n",
        "  # Print the area estimates\n",
        "  print(f\"Area estimate using first distribution 1: {area_estimate1}\")\n",
        "  print(f\"Area estimate using second distribution 2: {area_estimate2}\")"
      ],
      "metadata": {
        "id": "QypjLjTomFdJ"
      },
      "execution_count": null,
      "outputs": []
    },
    {
      "cell_type": "code",
      "source": [
        "GenerateDifferentDistribution(1000)"
      ],
      "metadata": {
        "colab": {
          "base_uri": "https://localhost:8080/"
        },
        "id": "WkAjDRwq2eIL",
        "outputId": "f17185d6-ad73-4e9c-dcd6-95cada7abbdc"
      },
      "execution_count": null,
      "outputs": [
        {
          "output_type": "stream",
          "name": "stdout",
          "text": [
            "Area estimate using first distribution 1: 1.2559999999999997e-39\n",
            "Area estimate using second distribution 2: 2.6880000000000005e-40\n"
          ]
        }
      ]
    },
    {
      "cell_type": "code",
      "source": [
        "import numpy as np\n",
        "import matplotlib.pyplot as plt\n",
        "\n",
        "# Set the radius of the circle\n",
        "r = 0.3\n",
        "\n",
        "# Set the side length of the square\n",
        "L = 2 * r\n",
        "\n",
        "# Define the target distribution\n",
        "def target(x, y):\n",
        "    return 1 if x**2 + y**2 <= r**2 else 0\n",
        "\n",
        "# Define the first proposal distribution\n",
        "def proposal1(x, y):\n",
        "    return 1 / L**2\n",
        "\n",
        "# Define the second proposal distribution\n",
        "def proposal2(x, y):\n",
        "    return 1 / (2 * r)**2\n",
        "\n",
        "# Define the function to estimate the area covered by the circle\n",
        "def estimate_area(samples, weights, area_proposal):\n",
        "    return np.sum(weights) / len(weights) * area_proposal\n",
        "\n",
        "# Generate the random samples using the first proposal distribution\n",
        "samples1 = []\n",
        "weights1 = []\n",
        "areas1 = []\n",
        "for i in range(1, 1001):\n",
        "    # Generate a random point in the square\n",
        "    x = np.random.uniform(-r, r)\n",
        "    y = np.random.uniform(-r, r)\n",
        "\n",
        "    # Compute the weight\n",
        "    weight = target(x, y) / proposal1(x, y)\n",
        "\n",
        "    # Append the sample and weight\n",
        "    samples1.append([x, y])\n",
        "    weights1.append(weight)\n",
        "\n",
        "    # Estimate the area covered by the circle\n",
        "    area_estimate = estimate_area(samples1, weights1, L**2)\n",
        "    areas1.append(area_estimate)\n",
        "\n",
        "# Generate the random samples using the second proposal distribution\n",
        "samples2 = []\n",
        "weights2 = []\n",
        "areas2 = []\n",
        "for i in range(1, 1001):\n",
        "    # Generate a random point in the circle\n",
        "    x = np.random.uniform(-r, r)\n",
        "    y = np.random.uniform(-r, r)\n",
        "\n",
        "    # Compute the weight\n",
        "    weight = target(x, y) / proposal2(x, y)\n",
        "\n",
        "    # Append the sample and weight\n",
        "    samples2.append([x, y])\n",
        "    weights2.append(weight)\n",
        "\n",
        "    # Estimate the area covered by the circle\n",
        "    area_estimate = estimate_area(samples2, weights2, (2 * r)**2)\n",
        "    areas2.append(area_estimate)\n",
        "\n",
        "# Compute the standard error of the estimate for each number of samples\n",
        "se1 = np.sqrt(np.var(areas1) / np.arange(1, 1001))\n",
        "se2 = np.sqrt(np.var(areas2) / np.arange(1, 1001))\n",
        "\n",
        "# Plot the standard error of the estimate as a function of the number of samples\n",
        "fig, ax = plt.subplots()\n",
        "ax.plot(np.arange(1, 1001), se1, label=\"Proposal distribution 1\")\n",
        "ax.plot(np.arange(1, 1001), se2, label=\"Proposal distribution 2\")\n",
        "ax.set_title(f\"Standard error of the estimate as a function of the number of samples\")\n",
        "ax.set_xlabel(\"Number of samples\")\n",
        "ax.set_ylabel(\"Standard error\")\n",
        "ax.legend()\n",
        "plt.show()"
      ],
      "metadata": {
        "colab": {
          "base_uri": "https://localhost:8080/",
          "height": 472
        },
        "id": "0LKlsnYtA8a3",
        "outputId": "07e19798-fe40-4434-bf3f-d3488000671c"
      },
      "execution_count": null,
      "outputs": [
        {
          "output_type": "display_data",
          "data": {
            "text/plain": [
              "<Figure size 640x480 with 1 Axes>"
            ],
            "image/png": "[encoded data removed]"
          },
          "metadata": {}
        }
      ]
    }
  ]
}