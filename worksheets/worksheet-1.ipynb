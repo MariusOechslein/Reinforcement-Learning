{
  "nbformat": 4,
  "nbformat_minor": 0,
  "metadata": {
    "colab": {
      "provenance": []
    },
    "kernelspec": {
      "name": "python3",
      "display_name": "Python 3"
    },
    "language_info": {
      "name": "python"
    }
  },
  "cells": [
    {
      "cell_type": "markdown",
      "source": [
        "# Work Sheet 1"
      ],
      "metadata": {
        "id": "irOfAu3vB0sb"
      }
    },
    {
      "cell_type": "markdown",
      "source": [
        "### Exercise 1 - Multinomial distributed random numbers"
      ],
      "metadata": {
        "id": "FmbKSNmSB_qp"
      }
    },
    {
      "cell_type": "code",
      "source": [
        "import pandas as pd"
      ],
      "metadata": {
        "id": "G_MK-DqZB1As"
      },
      "execution_count": null,
      "outputs": []
    },
    {
      "cell_type": "code",
      "source": [
        "df = pd.read_csv(\"anthrokids.csv\")\n",
        "df.head()"
      ],
      "metadata": {
        "colab": {
          "base_uri": "https://localhost:8080/",
          "height": 204
        },
        "id": "VaXP_qCDB1K1",
        "outputId": "960cc82a-c4e8-4e87-9fe6-cfd6b6be275c"
      },
      "execution_count": null,
      "outputs": [
        {
          "output_type": "execute_result",
          "data": {
            "text/plain": [
              "   id  mass  height  waist  foot  sittingHeight  upperLegLength  kneeHeight  \\\n",
              "0   1  15.5   103.3   47.5  16.3          582.0           306.0         NaN   \n",
              "1   2  17.6   103.9   49.8  16.3          606.0           311.0         NaN   \n",
              "2   3  23.0   111.2   52.0  17.1          594.0           387.0         NaN   \n",
              "3   4  16.5    99.7   49.1  16.3          542.0           312.0         NaN   \n",
              "4   5  15.0    99.7   46.5  16.7          524.0           321.0         NaN   \n",
              "\n",
              "   forearmLength    age gender handedness  birthOrder  \n",
              "0          259.0  4.219      F      right         1.0  \n",
              "1          274.0  4.326      M      right         1.0  \n",
              "2          304.0  4.476      F      right         1.0  \n",
              "3          281.0  3.841      F       both         1.0  \n",
              "4          269.0  3.460      F       both         1.0  "
            ],
            "text/html": [
              "\n",
              "  <div id=\"df-88207caa-0406-48fe-9a01-28588fae0065\">\n",
              "    <div class=\"colab-df-container\">\n",
              "      <div>\n",
              "<style scoped>\n",
              "    .dataframe tbody tr th:only-of-type {\n",
              "        vertical-align: middle;\n",
              "    }\n",
              "\n",
              "    .dataframe tbody tr th {\n",
              "        vertical-align: top;\n",
              "    }\n",
              "\n",
              "    .dataframe thead th {\n",
              "        text-align: right;\n",
              "    }\n",
              "</style>\n",
              "<table border=\"1\" class=\"dataframe\">\n",
              "  <thead>\n",
              "    <tr style=\"text-align: right;\">\n",
              "      <th></th>\n",
              "      <th>id</th>\n",
              "      <th>mass</th>\n",
              "      <th>height</th>\n",
              "      <th>waist</th>\n",
              "      <th>foot</th>\n",
              "      <th>sittingHeight</th>\n",
              "      <th>upperLegLength</th>\n",
              "      <th>kneeHeight</th>\n",
              "      <th>forearmLength</th>\n",
              "      <th>age</th>\n",
              "      <th>gender</th>\n",
              "      <th>handedness</th>\n",
              "      <th>birthOrder</th>\n",
              "    </tr>\n",
              "  </thead>\n",
              "  <tbody>\n",
              "    <tr>\n",
              "      <th>0</th>\n",
              "      <td>1</td>\n",
              "      <td>15.5</td>\n",
              "      <td>103.3</td>\n",
              "      <td>47.5</td>\n",
              "      <td>16.3</td>\n",
              "      <td>582.0</td>\n",
              "      <td>306.0</td>\n",
              "      <td>NaN</td>\n",
              "      <td>259.0</td>\n",
              "      <td>4.219</td>\n",
              "      <td>F</td>\n",
              "      <td>right</td>\n",
              "      <td>1.0</td>\n",
              "    </tr>\n",
              "    <tr>\n",
              "      <th>1</th>\n",
              "      <td>2</td>\n",
              "      <td>17.6</td>\n",
              "      <td>103.9</td>\n",
              "      <td>49.8</td>\n",
              "      <td>16.3</td>\n",
              "      <td>606.0</td>\n",
              "      <td>311.0</td>\n",
              "      <td>NaN</td>\n",
              "      <td>274.0</td>\n",
              "      <td>4.326</td>\n",
              "      <td>M</td>\n",
              "      <td>right</td>\n",
              "      <td>1.0</td>\n",
              "    </tr>\n",
              "    <tr>\n",
              "      <th>2</th>\n",
              "      <td>3</td>\n",
              "      <td>23.0</td>\n",
              "      <td>111.2</td>\n",
              "      <td>52.0</td>\n",
              "      <td>17.1</td>\n",
              "      <td>594.0</td>\n",
              "      <td>387.0</td>\n",
              "      <td>NaN</td>\n",
              "      <td>304.0</td>\n",
              "      <td>4.476</td>\n",
              "      <td>F</td>\n",
              "      <td>right</td>\n",
              "      <td>1.0</td>\n",
              "    </tr>\n",
              "    <tr>\n",
              "      <th>3</th>\n",
              "      <td>4</td>\n",
              "      <td>16.5</td>\n",
              "      <td>99.7</td>\n",
              "      <td>49.1</td>\n",
              "      <td>16.3</td>\n",
              "      <td>542.0</td>\n",
              "      <td>312.0</td>\n",
              "      <td>NaN</td>\n",
              "      <td>281.0</td>\n",
              "      <td>3.841</td>\n",
              "      <td>F</td>\n",
              "      <td>both</td>\n",
              "      <td>1.0</td>\n",
              "    </tr>\n",
              "    <tr>\n",
              "      <th>4</th>\n",
              "      <td>5</td>\n",
              "      <td>15.0</td>\n",
              "      <td>99.7</td>\n",
              "      <td>46.5</td>\n",
              "      <td>16.7</td>\n",
              "      <td>524.0</td>\n",
              "      <td>321.0</td>\n",
              "      <td>NaN</td>\n",
              "      <td>269.0</td>\n",
              "      <td>3.460</td>\n",
              "      <td>F</td>\n",
              "      <td>both</td>\n",
              "      <td>1.0</td>\n",
              "    </tr>\n",
              "  </tbody>\n",
              "</table>\n",
              "</div>\n",
              "      <button class=\"colab-df-convert\" onclick=\"convertToInteractive('df-88207caa-0406-48fe-9a01-28588fae0065')\"\n",
              "              title=\"Convert this dataframe to an interactive table.\"\n",
              "              style=\"display:none;\">\n",
              "        \n",
              "  <svg xmlns=\"http://www.w3.org/2000/svg\" height=\"24px\"viewBox=\"0 0 24 24\"\n",
              "       width=\"24px\">\n",
              "    <path d=\"M0 0h24v24H0V0z\" fill=\"none\"/>\n",
              "    <path d=\"M18.56 5.44l.94 2.06.94-2.06 2.06-.94-2.06-.94-.94-2.06-.94 2.06-2.06.94zm-11 1L8.5 8.5l.94-2.06 2.06-.94-2.06-.94L8.5 2.5l-.94 2.06-2.06.94zm10 10l.94 2.06.94-2.06 2.06-.94-2.06-.94-.94-2.06-.94 2.06-2.06.94z\"/><path d=\"M17.41 7.96l-1.37-1.37c-.4-.4-.92-.59-1.43-.59-.52 0-1.04.2-1.43.59L10.3 9.45l-7.72 7.72c-.78.78-.78 2.05 0 2.83L4 21.41c.39.39.9.59 1.41.59.51 0 1.02-.2 1.41-.59l7.78-7.78 2.81-2.81c.8-.78.8-2.07 0-2.86zM5.41 20L4 18.59l7.72-7.72 1.47 1.35L5.41 20z\"/>\n",
              "  </svg>\n",
              "      </button>\n",
              "      \n",
              "  <style>\n",
              "    .colab-df-container {\n",
              "      display:flex;\n",
              "      flex-wrap:wrap;\n",
              "      gap: 12px;\n",
              "    }\n",
              "\n",
              "    .colab-df-convert {\n",
              "      background-color: #E8F0FE;\n",
              "      border: none;\n",
              "      border-radius: 50%;\n",
              "      cursor: pointer;\n",
              "      display: none;\n",
              "      fill: #1967D2;\n",
              "      height: 32px;\n",
              "      padding: 0 0 0 0;\n",
              "      width: 32px;\n",
              "    }\n",
              "\n",
              "    .colab-df-convert:hover {\n",
              "      background-color: #E2EBFA;\n",
              "      box-shadow: 0px 1px 2px rgba(60, 64, 67, 0.3), 0px 1px 3px 1px rgba(60, 64, 67, 0.15);\n",
              "      fill: #174EA6;\n",
              "    }\n",
              "\n",
              "    [theme=dark] .colab-df-convert {\n",
              "      background-color: #3B4455;\n",
              "      fill: #D2E3FC;\n",
              "    }\n",
              "\n",
              "    [theme=dark] .colab-df-convert:hover {\n",
              "      background-color: #434B5C;\n",
              "      box-shadow: 0px 1px 3px 1px rgba(0, 0, 0, 0.15);\n",
              "      filter: drop-shadow(0px 1px 2px rgba(0, 0, 0, 0.3));\n",
              "      fill: #FFFFFF;\n",
              "    }\n",
              "  </style>\n",
              "\n",
              "      <script>\n",
              "        const buttonEl =\n",
              "          document.querySelector('#df-88207caa-0406-48fe-9a01-28588fae0065 button.colab-df-convert');\n",
              "        buttonEl.style.display =\n",
              "          google.colab.kernel.accessAllowed ? 'block' : 'none';\n",
              "\n",
              "        async function convertToInteractive(key) {\n",
              "          const element = document.querySelector('#df-88207caa-0406-48fe-9a01-28588fae0065');\n",
              "          const dataTable =\n",
              "            await google.colab.kernel.invokeFunction('convertToInteractive',\n",
              "                                                     [key], {});\n",
              "          if (!dataTable) return;\n",
              "\n",
              "          const docLinkHtml = 'Like what you see? Visit the ' +\n",
              "            '<a target=\"_blank\" href=https://colab.research.google.com/notebooks/data_table.ipynb>data table notebook</a>'\n",
              "            + ' to learn more about interactive tables.';\n",
              "          element.innerHTML = '';\n",
              "          dataTable['output_type'] = 'display_data';\n",
              "          await google.colab.output.renderOutput(dataTable, element);\n",
              "          const docLink = document.createElement('div');\n",
              "          docLink.innerHTML = docLinkHtml;\n",
              "          element.appendChild(docLink);\n",
              "        }\n",
              "      </script>\n",
              "    </div>\n",
              "  </div>\n",
              "  "
            ]
          },
          "metadata": {},
          "execution_count": 2
        }
      ]
    },
    {
      "cell_type": "code",
      "source": [
        "# Marius\n",
        "# a) Create multinomial distribution\n",
        "df = df[df['age'].notna()] # only 2 rows\n",
        "# Create new column with ages rounded to integers\n",
        "df[\"age_int\"] = df[\"age\"].round(0).astype(int)\n",
        "\n",
        "# Get total number of people, used for calculating percentages of ages\n",
        "num_people = df.shape[0]\n",
        "print(\"total number of people:\", num_people)\n",
        "\n",
        "# Create list of count of ages mapped to age\n",
        "people_per_age = df[\"age_int\"].value_counts().sort_index()\n",
        "print(people_per_age)\n",
        "print()\n",
        "\n",
        "df_ages = pd.DataFrame()\n",
        "df_ages[\"age\"] = people_per_age.index\n",
        "df_ages[\"count\"] = people_per_age.values\n",
        "df_ages[\"prob\"] = people_per_age.values / num_people\n",
        "print(df_ages)\n",
        "print()\n",
        "\n",
        "multinomial_dist = []\n",
        "for row in df_ages.iterrows():\n",
        "  row_values = row[1]\n",
        "  age_count = row_values[\"count\"].astype(int)\n",
        "  for i in range(age_count):\n",
        "    multinomial_dist.append(row_values[\"age\"])\n",
        "print(\"Length of the list, matches the number of people:\", len(multinomial_dist))\n",
        "print()\n",
        "\n",
        "# b) sample from multinomial distribution\n",
        "seed = 0\n",
        "def rand():\n",
        "  # after numerical recipes\n",
        "  global seed\n",
        "  a = 1664525\n",
        "  b = 1013904223\n",
        "  m = 2**32\n",
        "  z = (a * seed + b) % m\n",
        "  seed = z # important: set seed to new random number\n",
        "  return z\n",
        "\n",
        "def sample_from(multinomial_dist):\n",
        "  index = rand() % len(multinomial_dist)\n",
        "  return multinomial_dist[index]\n",
        "\n",
        "print(\"one random sample from the multinomial distribution:\", sample_from(multinomial_dist))\n",
        "\n",
        "\n",
        "# c) check if probability for the ages match\n",
        "counter_for_11 = 0\n",
        "counter_for_5 = 0\n",
        "counter_for_20 = 0\n",
        "size = 1000000\n",
        "for i in range(size):\n",
        "  random_number = sample_from(multinomial_dist)\n",
        "  if random_number == 11:\n",
        "    counter_for_11 += 1\n",
        "  if random_number == 5:\n",
        "    counter_for_5 += 1\n",
        "  if random_number == 20:\n",
        "    counter_for_20 += 1\n",
        "\n",
        "print(\"Probability for age 11 (should be about 0.072345):\", counter_for_11 / size)\n",
        "print(\"Probability for age 5 (should be about 0.069523):\", counter_for_5 / size)\n",
        "print(\"Probability for age 20 (should be about 0.000257):\", counter_for_20 / size)\n",
        "\n"
      ],
      "metadata": {
        "colab": {
          "base_uri": "https://localhost:8080/"
        },
        "id": "ISH1msaIB1Nr",
        "outputId": "c9fdf12c-3fd4-4b34-ae0b-c8b134e41b15"
      },
      "execution_count": null,
      "outputs": [
        {
          "output_type": "stream",
          "name": "stdout",
          "text": [
            "total number of people: 3898\n",
            "2      56\n",
            "3     157\n",
            "4     228\n",
            "5     271\n",
            "6     245\n",
            "7     231\n",
            "8     198\n",
            "9     257\n",
            "10    258\n",
            "11    282\n",
            "12    287\n",
            "13    315\n",
            "14    271\n",
            "15    264\n",
            "16    198\n",
            "17    221\n",
            "18    139\n",
            "19     19\n",
            "20      1\n",
            "Name: age_int, dtype: int64\n",
            "\n",
            "    age  count      prob\n",
            "0     2     56  0.014366\n",
            "1     3    157  0.040277\n",
            "2     4    228  0.058492\n",
            "3     5    271  0.069523\n",
            "4     6    245  0.062853\n",
            "5     7    231  0.059261\n",
            "6     8    198  0.050795\n",
            "7     9    257  0.065931\n",
            "8    10    258  0.066188\n",
            "9    11    282  0.072345\n",
            "10   12    287  0.073628\n",
            "11   13    315  0.080811\n",
            "12   14    271  0.069523\n",
            "13   15    264  0.067727\n",
            "14   16    198  0.050795\n",
            "15   17    221  0.056696\n",
            "16   18    139  0.035659\n",
            "17   19     19  0.004874\n",
            "18   20      1  0.000257\n",
            "\n",
            "Length of the list, matches the number of people: 3898\n",
            "\n",
            "one random sample from the multinomial distribution: 15.0\n",
            "Probability for age 11 (should be about 0.072345): 0.072373\n",
            "Probability for age 5 (should be about 0.069523): 0.069766\n",
            "Probability for age 20 (should be about 0.000257): 0.000256\n"
          ]
        }
      ]
    },
    {
      "cell_type": "code",
      "source": [],
      "metadata": {
        "id": "dn4B32NGB1QS"
      },
      "execution_count": null,
      "outputs": []
    },
    {
      "cell_type": "markdown",
      "source": [
        "### Exercise 2 - Uniformly distributed random numbers"
      ],
      "metadata": {
        "id": "FIfe22lQMHPm"
      }
    },
    {
      "cell_type": "code",
      "source": [
        "# a) Implement a way to generate uniformly distributed one-dimensional random numbers. Make sure that your implementation can be parametrized.\n",
        "# Uniform Random number generation\n",
        "\n",
        "d, c, m = 1664525, 1013904223, 2 ** 32\n",
        "seed = 0\n",
        "def rand():\n",
        "  global seed\n",
        "  # Create 2 indepented uniformly distributed number between 0.0 and 1.0\n",
        "  # From numerical recipes\n",
        "  a = 1664525\n",
        "  b = 1013904223\n",
        "  m = 2**32\n",
        "  Z = (a * seed + b) % m\n",
        "  seed = Z # important: override the global seed\n",
        "  return Z / m # important: to get a float value between 0 and 1\n",
        "\n",
        "\n",
        "def GenerateRandomNumberFollowingDistribution(lower_bound, upper_bound):\n",
        "  r = rand()\n",
        "  # Random number to be between the lower and upper bound\n",
        "  return lower_bound + (upper_bound - lower_bound) * r\n",
        "\n",
        "def GenerateMultipleRandomNumber(size, lower_bound = 1, upper_bound = 20):\n",
        "  list = []\n",
        "  for i in range(size):\n",
        "    r = GenerateRandomNumberFollowingDistribution(lower_bound, upper_bound)\n",
        "    list.append(r)\n",
        "  return list\n",
        "\n",
        "l = GenerateMultipleRandomNumber(10)\n",
        "print (l)\n",
        "\n",
        "\n"
      ],
      "metadata": {
        "id": "ulbhIw7HMJk3",
        "colab": {
          "base_uri": "https://localhost:8080/"
        },
        "outputId": "bcb94b76-dd85-49dc-b0b6-76ccbeee1551"
      },
      "execution_count": null,
      "outputs": [
        {
          "output_type": "stream",
          "name": "stdout",
          "text": [
            "[5.485291484044865, 6.2927712625823915, 16.57114143925719, 13.689471057616174, 8.29747004644014, 12.814342257101089, 7.530792673816904, 13.160676566883922, 10.647783943684772, 12.054153378587216]\n"
          ]
        }
      ]
    },
    {
      "cell_type": "code",
      "source": [
        "# b) Use the random number generator from 2 a) to create a sample set of random numbers.\n",
        "# Estimate the parameters of the underlying uniform distribution from this sample set. What do you observe?\n",
        "# How accurate is your parameter estimate? What happens if the size of the sample set changes?\n",
        "\n",
        "a, b= 0 , 1 # a is the lower bound of the distribution and b is the upper bound of the distribution.\n",
        "\n",
        "# function to find the minimum value in the sample list to compare it to the lower bound a.\n",
        "def find_min_value(lst):\n",
        "    min_value = lst[0]  # initialize the minimum value as the first element in the list\n",
        "    for i in range(1, len(lst)):\n",
        "        if lst[i] < min_value:\n",
        "            min_value = lst[i]  # update the minimum value if a smaller value is found\n",
        "    return min_value\n",
        "\n",
        "# function to find the maximum value in the sample list to compare it to the upper bound b.\n",
        "def find_max_value(lst):\n",
        "    max_value = lst[0]  # initialize the maximum value as the first element in the list\n",
        "    for i in range(1, len(lst)):\n",
        "        if lst[i] > max_value:\n",
        "            max_value = lst[i]  # update the maximum value if a larger value is found\n",
        "    return max_value\n",
        "\n",
        "# Generate sample sets of different sizes\n",
        "for size in [10, 100, 1000, 10000]:\n",
        "    # Uniformly distributed sample using random numbers\n",
        "    lower_bound = 10\n",
        "    upper_bound = 40\n",
        "    l = GenerateMultipleRandomNumber(size, lower_bound, upper_bound)\n",
        "\n",
        "    # Estimate parameters of underlying uniform distribution\n",
        "    a_est = find_min_value(l)\n",
        "    b_est = find_max_value(l)\n",
        "\n",
        "    #accuracy and errors of parameter estimate\n",
        "    errora= abs(a_est - lower_bound)\n",
        "    errorb= abs(b_est - upper_bound)\n",
        "\n",
        "    # Print estimated parameters\n",
        "    print(\"Sample size: \", size)\n",
        "    print(\"Estimated lower bound a: \", a_est)\n",
        "    print(\"Estimated upper bound b: \", b_est)\n",
        "    print(\"Error in lower bound a: \", errora)\n",
        "    print(\"Error in upper bound b: \", errorb)\n",
        "    print('larger sample sizes increases the accuracy of the lower bound and upper bound.')\n",
        "    print()"
      ],
      "metadata": {
        "id": "hQ06gX0gMJqC",
        "colab": {
          "base_uri": "https://localhost:8080/"
        },
        "outputId": "ecd4e5a8-d084-4404-f4fb-ecc7c664c0e9"
      },
      "execution_count": null,
      "outputs": [
        {
          "output_type": "stream",
          "name": "stdout",
          "text": [
            "Sample size:  10\n",
            "Estimated lower bound a:  10.637184532824904\n",
            "Estimated upper bound b:  39.15744852973148\n",
            "Error in lower bound a:  0.6371845328249037\n",
            "Error in upper bound b:  0.8425514702685177\n",
            "larger sample sizes increases the accuracy of the lower bound and upper bound.\n",
            "\n",
            "Sample size:  100\n",
            "Estimated lower bound a:  10.53133153822273\n",
            "Estimated upper bound b:  39.85325447982177\n",
            "Error in lower bound a:  0.5313315382227302\n",
            "Error in upper bound b:  0.14674552017822862\n",
            "larger sample sizes increases the accuracy of the lower bound and upper bound.\n",
            "\n",
            "Sample size:  1000\n",
            "Estimated lower bound a:  10.052023399621248\n",
            "Estimated upper bound b:  39.95686806039885\n",
            "Error in lower bound a:  0.052023399621248245\n",
            "Error in upper bound b:  0.043131939601153135\n",
            "larger sample sizes increases the accuracy of the lower bound and upper bound.\n",
            "\n",
            "Sample size:  10000\n",
            "Estimated lower bound a:  10.002181502059102\n",
            "Estimated upper bound b:  39.998213215731084\n",
            "Error in lower bound a:  0.0021815020591020584\n",
            "Error in upper bound b:  0.0017867842689156532\n",
            "larger sample sizes increases the accuracy of the lower bound and upper bound.\n",
            "\n"
          ]
        }
      ]
    },
    {
      "cell_type": "code",
      "source": [
        "from matplotlib import pyplot as plt\n",
        "# c)How can you check if your random numbers really follow the distribution from 2 a)?\n",
        "\n",
        "# Uniformly distributed sample using random numbers\n",
        "lower_bound = -10\n",
        "upper_bound = 105\n",
        "l = GenerateMultipleRandomNumber(50000, lower_bound, upper_bound)\n",
        "\n",
        "#print the answer\n",
        "print('Since most of the data points fall close to a straight line, then the sample follow a uniform distribution.')\n",
        "\n",
        "import numpy as np\n",
        "import statsmodels.api as sm\n",
        "\n",
        "# Plot Histogram for checking if the probabilites for the values are the same\n",
        "plt.hist(l)\n",
        "\n",
        "# For checking using Quantile-quantile (QQ) plot\n",
        "#array = np.array(l)\n",
        "#sm.qqplot(array, line='s')\n",
        "#plt.show()"
      ],
      "metadata": {
        "id": "mZJHV3G6s3uL",
        "colab": {
          "base_uri": "https://localhost:8080/",
          "height": 549
        },
        "outputId": "1d66403e-bae5-4176-cea4-e439cbd60e7e"
      },
      "execution_count": null,
      "outputs": [
        {
          "output_type": "stream",
          "name": "stdout",
          "text": [
            "Since most of the data points fall close to a straight line, then the sample follow a uniform distribution.\n"
          ]
        },
        {
          "output_type": "execute_result",
          "data": {
            "text/plain": [
              "(array([4892., 4915., 4994., 4968., 5067., 4928., 5222., 5000., 4988.,\n",
              "        5026.]),\n",
              " array([ -9.99786409,   1.50118802,  13.00024013,  24.49929225,\n",
              "         35.99834436,  47.49739647,  58.99644858,  70.49550069,\n",
              "         81.9945528 ,  93.49360492, 104.99265703]),\n",
              " <BarContainer object of 10 artists>)"
            ]
          },
          "metadata": {},
          "execution_count": 16
        },
        {
          "output_type": "display_data",
          "data": {
            "text/plain": [
              "<Figure size 640x480 with 1 Axes>"
            ],
            "image/png": "[encoded data removed]"
          },
          "metadata": {}
        }
      ]
    },
    {
      "cell_type": "code",
      "source": [],
      "metadata": {
        "id": "Y14K2Pm7B1Sr"
      },
      "execution_count": null,
      "outputs": []
    },
    {
      "cell_type": "markdown",
      "source": [
        "\n",
        "### Exercise 3 - Normally distributed random numbers"
      ],
      "metadata": {
        "id": "Mrb9dMdYgK_v"
      }
    },
    {
      "cell_type": "markdown",
      "source": [
        "\n",
        "a) Implement a way to generate normally distributed one-dimensional random numbers with mean 0 and standard deviation of 1.0."
      ],
      "metadata": {
        "id": "HQuSDsL3gQRT"
      }
    },
    {
      "cell_type": "code",
      "source": [
        "# Marius\n",
        "# Create sample list with random numbers following the normal distribution\n",
        "import numpy as np\n",
        "\n",
        "seed = 2**25\n",
        "seed2 = 2001\n",
        "\n",
        "# unused\n",
        "\"\"\"\n",
        "def rand_standard_distribution(mean=0.0, std=1.0):\n",
        "  x = rand_between_0_1()\n",
        "  return (1 / (std * np.sqrt(2 * np.pi))) * (np.e ** (-(1/2) * (((x - mean) / std))**2))\n",
        "def rand_between_0_1_after_standard_dist():\n",
        "  return rand_standard_distribution(seed)\n",
        "\"\"\"\n",
        "\n",
        "def rand_between_0_1():\n",
        "  global seed\n",
        "  # Create 2 indepented uniformly distributed number between 0.0 and 1.0\n",
        "  # From numerical recipes\n",
        "  a = 1664525\n",
        "  b = 1013904223\n",
        "  m = 2**32\n",
        "  Z = (a * seed + b) % m\n",
        "  seed = Z # important: override the global seed\n",
        "  return Z / m # important: to get a float value between 0 and 1\n",
        "\n",
        "def rand_between_0_1_seed2():\n",
        "  global seed2\n",
        "  # Create 2 indepented uniformly distributed number between 0.0 and 1.0\n",
        "  # From numerical recipes\n",
        "  a = 1664525\n",
        "  b = 1013904223\n",
        "  m = 2**32\n",
        "  Z = (a * seed2 + b) % m\n",
        "  seed2 = Z # important: override the global seed2\n",
        "  return Z / m # important: to get a float value between 0 and 1\n",
        "\n",
        "def box_mueller_method():\n",
        "  # Indepent u\n",
        "  u1 = rand_between_0_1()\n",
        "  u2 = rand_between_0_1_seed2()\n",
        "  # get random numbers following the normal distribution\n",
        "  z1 = np.cos(2* np.pi * u1) * np.sqrt(-2 * np.log(u2)) # mostly positive values\n",
        "  z2 = np.sin(2* np.pi * u1) * np.sqrt(-2 * np.log(u2))  # mostly negative values\n",
        "  return z1, z2\n",
        "\n",
        "def create_normal_dist_sample_set(size=5):\n",
        "  sample_list = []\n",
        "  for i in range(size):\n",
        "    z1, z2 = box_mueller_method()\n",
        "    sample_list.append(z1)\n",
        "    sample_list.append(z2)\n",
        "  return sample_list\n",
        "\n",
        "\n",
        "# b) Estimate the parameters\n",
        "for size in [500, 5000, 500000]: # 2* this size, because always z1 and z2 get added\n",
        "  sample_list_random_numbers = create_normal_dist_sample_set(size)\n",
        "  #estimate_normal_params( sample_list_random_numbers)\n",
        "\n",
        "\n",
        "  list_length = len(sample_list_random_numbers)\n",
        "  print(\"len(list):\", list_length)\n",
        "  mean = 0.0\n",
        "  for value in sample_list_random_numbers:\n",
        "    mean = mean + value\n",
        "    mean_est = mean / list_length\n",
        "  #print(\"Estimated Mean (should be ):\", mean_est)\n",
        "\n",
        "  std = 0.0\n",
        "  for value in sample_list_random_numbers:\n",
        "    std = std + (value - mean_est)**2\n",
        "  std_est = std / list_length\n",
        "  #print(\"Estimated STD (sould be 1):\", std)\n",
        "  #print()\n",
        "\n",
        "\n",
        "\n",
        "  #accuracy and error of parameter estimate\n",
        "  error_mean= abs(mean_est-0)\n",
        "  error_std= abs(std_est-1)\n",
        "  accuracy_mean = (1 - error_mean) * 100\n",
        "  accuracy_std= (1 - error_std) * 100\n",
        "\n",
        "  # Print the estimated parameters\n",
        "  print(f\"Estimated mean: {mean_est}\")\n",
        "  print(f\"Estimated standard deviation: {std_est}\")\n",
        "  print(\"Error of the mean: \", error_mean)\n",
        "  print(\"Error of the standard deviation : \", error_std)\n",
        "  print(\"Accuracy of the mean: \", accuracy_mean, \"%\")\n",
        "  print(\"Accuracy of the standard deviation: \", accuracy_std, \"%\")\n",
        "  print('larger sample sizes increases the accuracy of the mean and standard deviation.')\n",
        "  print()\n",
        "\n",
        "#c)\n",
        "# Normally distributed sample using random numbers\n",
        "\n",
        "size = 100 #size :The number of random numbers to generate (default is 1) and it is integer.\n",
        "\n",
        "# Normally distributed sample using random numbers\n",
        "sample= create_normal_dist_sample_set(size)\n",
        "\n",
        "#print the answer\n",
        "print('Since most of the data points fall close to a straight line, then the sample follow a normal distribution.')\n",
        "import scipy.stats as stats\n",
        "import matplotlib.pyplot as plt\n",
        "# Create a Q-Q plot to check if the random numbers follow a normal distribution\n",
        "fig, ax = plt.subplots(figsize=(8,6))\n",
        "stats.probplot(sample, dist=\"norm\", plot=ax)\n",
        "ax.set_title(\"Normal Q-Q plot\")\n",
        "plt.show()\n",
        "\n",
        "# Anwer to question c)\n",
        "print()"
      ],
      "metadata": {
        "id": "zqeaC1RchegW",
        "colab": {
          "base_uri": "https://localhost:8080/",
          "height": 1000
        },
        "outputId": "ba3eda65-295d-45b7-fd71-5ecfcfb31ce9"
      },
      "execution_count": null,
      "outputs": [
        {
          "output_type": "stream",
          "name": "stdout",
          "text": [
            "len(list): 1000\n",
            "Estimated mean: 0.007333137094563865\n",
            "Estimated standard deviation: 0.9925519720548427\n",
            "Error of the mean:  0.007333137094563865\n",
            "Error of the standard deviation :  0.0074480279451573095\n",
            "Accuracy of the mean:  99.26668629054362 %\n",
            "Accuracy of the standard deviation:  99.25519720548427 %\n",
            "larger sample sizes increases the accuracy of the mean and standard deviation.\n",
            "\n",
            "len(list): 10000\n",
            "Estimated mean: -0.012428507244248252\n",
            "Estimated standard deviation: 1.041069706862387\n",
            "Error of the mean:  0.012428507244248252\n",
            "Error of the standard deviation :  0.04106970686238709\n",
            "Accuracy of the mean:  98.75714927557517 %\n",
            "Accuracy of the standard deviation:  95.89302931376129 %\n",
            "larger sample sizes increases the accuracy of the mean and standard deviation.\n",
            "\n",
            "len(list): 1000000\n",
            "Estimated mean: 3.571570946414057e-05\n",
            "Estimated standard deviation: 1.0001945863038153\n",
            "Error of the mean:  3.571570946414057e-05\n",
            "Error of the standard deviation :  0.00019458630381530284\n",
            "Accuracy of the mean:  99.99642842905358 %\n",
            "Accuracy of the standard deviation:  99.98054136961846 %\n",
            "larger sample sizes increases the accuracy of the mean and standard deviation.\n",
            "\n",
            "Since most of the data points fall close to a straight line, then the sample follow a normal distribution.\n"
          ]
        },
        {
          "output_type": "display_data",
          "data": {
            "text/plain": [
              "<Figure size 800x600 with 1 Axes>"
            ],
            "image/png": "[encoded data removed]"
          },
          "metadata": {}
        },
        {
          "output_type": "stream",
          "name": "stdout",
          "text": [
            "\n"
          ]
        }
      ]
    },
    {
      "cell_type": "markdown",
      "source": [
        "b) Use the random number generator from 3 a) to create a sample set of random numbers. Estimate the parameters of the underlying normal distribution from this sample set. What do you observe? How accurate is your parameter estimate? What happens if the size of the sample set changes?"
      ],
      "metadata": {
        "id": "B3ldC7JygWvA"
      }
    },
    {
      "cell_type": "markdown",
      "source": [
        "c) How can you check if your random numbers really follow the distribution from 3 a)?"
      ],
      "metadata": {
        "id": "B8Gm87TggYs9"
      }
    },
    {
      "cell_type": "markdown",
      "source": [
        "### We could integrate over the distribution, which should equal to 1. We could also integrate over the mean - and + the standard deviation, which should return around 68%, and so on."
      ],
      "metadata": {
        "id": "3Lyhpd__y4Zb"
      }
    },
    {
      "cell_type": "code",
      "source": [],
      "metadata": {
        "id": "yo-MxIrltems"
      },
      "execution_count": null,
      "outputs": []
    },
    {
      "cell_type": "markdown",
      "source": [
        "### Exercise 4 - Exponentially distributed random numbers"
      ],
      "metadata": {
        "id": "IlZZQK-utdIA"
      }
    },
    {
      "cell_type": "markdown",
      "source": [
        "Todo:\n",
        "- Create a function to that generates a random number for the exponential distribution\n",
        "  - Similiar to Exercise 3, only difference: it is calculated with the inverse function and not with the box-mueller method\n",
        "- Estimate parameters from the sample set\n",
        "- for c) Plot histogram"
      ],
      "metadata": {
        "id": "RR7Pz3XB3l6m"
      }
    },
    {
      "cell_type": "code",
      "source": [
        "import numpy as np\n",
        "\n",
        "seed = 0\n",
        "def rand():\n",
        "  # after numerical recipes\n",
        "  global seed\n",
        "  a = 1664525\n",
        "  b = 1013904223\n",
        "  m = 2**32\n",
        "  z = (a * seed + b) % m\n",
        "  seed = z # important: set seed to new random number\n",
        "  return z / m\n",
        "\n",
        "def inverse_exponential_distribution(scale_parameter, u):\n",
        "  return -(1 / scale_parameter) * np.log(u)\n",
        "\n",
        "def sample_from_exponential_distribiution(scale_parameter, size):\n",
        "  sample_set = []\n",
        "  for i in range(size):\n",
        "    random_number = rand()\n",
        "    sample_set.append(inverse_exponential_distribution(scale_parameter, random_number))\n",
        "  return sample_set\n",
        "\n",
        "#def exponential_random_variable(scale_parameter=1, size=1):\n",
        "#    return np.random.exponential(scale=scale_parameter, size=size)"
      ],
      "metadata": {
        "id": "Kdc5gVJFgM9H"
      },
      "execution_count": null,
      "outputs": []
    },
    {
      "cell_type": "code",
      "source": [
        "# Function to estimate the rate of the exponential distribution.\n",
        "def estimate_parameters(sample):\n",
        "    n = len(sample)\n",
        "    sum_x = sum(sample)\n",
        "    lambda_param = n / sum_x\n",
        "    return lambda_param\n",
        "\n",
        "for size in [10, 100, 1000, 10000]:\n",
        "  # Generate a sample set of random numbers\n",
        "  scale_parameter = 0.5\n",
        "  sample = sample_from_exponential_distribiution(scale_parameter, size)\n",
        "\n",
        "  # Estimate the lambda parameter or rate\n",
        "  lambda_param = estimate_parameters(sample)\n",
        "\n",
        "  #accuracy and error of parameter estimate\n",
        "  error_rate= abs(lambda_param - scale_parameter)\n",
        "  accuracy_rate = (1 - error_rate) * 100\n",
        "\n",
        "  # Print the estimated parameters\n",
        "  print(\"Estimated rate: {lambda_param}\")\n",
        "  print(\"Error of the rate: \", error_rate)\n",
        "  print(\"Accuracy of the rate: \", accuracy_rate, \"%\")\n",
        "  print('larger sample sizes increases the accuracy of the rate parameter increases.')\n",
        "  print()"
      ],
      "metadata": {
        "colab": {
          "base_uri": "https://localhost:8080/"
        },
        "id": "4RmN4Ih7gXn-",
        "outputId": "34120a7e-d35c-471f-f6a7-f1fd67ba3213"
      },
      "execution_count": null,
      "outputs": [
        {
          "output_type": "stream",
          "name": "stdout",
          "text": [
            "Estimated rate: {lambda_param}\n",
            "Error of the rate:  0.14995125001672366\n",
            "Accuracy of the rate:  85.00487499832762 %\n",
            "larger sample sizes increases the accuracy of the rate parameter increases.\n",
            "\n",
            "Estimated rate: {lambda_param}\n",
            "Error of the rate:  0.020705516425340464\n",
            "Accuracy of the rate:  97.92944835746596 %\n",
            "larger sample sizes increases the accuracy of the rate parameter increases.\n",
            "\n",
            "Estimated rate: {lambda_param}\n",
            "Error of the rate:  0.014485554621842867\n",
            "Accuracy of the rate:  98.55144453781571 %\n",
            "larger sample sizes increases the accuracy of the rate parameter increases.\n",
            "\n",
            "Estimated rate: {lambda_param}\n",
            "Error of the rate:  0.008922865099663668\n",
            "Accuracy of the rate:  99.10771349003363 %\n",
            "larger sample sizes increases the accuracy of the rate parameter increases.\n",
            "\n"
          ]
        }
      ]
    },
    {
      "cell_type": "code",
      "source": [
        "import matplotlib.pyplot as plt\n",
        "\n",
        "# Generate a sample set of 1000 exponentially distributed random numbers\n",
        "scale_parameter = 0.5\n",
        "sample = sample_from_exponential_distribiution(scale_parameter, size = 10)\n",
        "\n",
        "from scipy.stats import expon\n",
        "# Plot the sample histogram and the fitted distribution\n",
        "x = np.linspace(0, 10, 100)\n",
        "plt.hist(sample, bins=50, density=True, alpha=0.5)\n",
        "plt.plot(x, expon.pdf(x, scale=1/scale_parameter), label='Exponential PDF')\n",
        "plt.legend()\n",
        "\n"
      ],
      "metadata": {
        "colab": {
          "base_uri": "https://localhost:8080/",
          "height": 448
        },
        "id": "zWI2NfKSgZRt",
        "outputId": "7c3cf7bc-f6ee-48fc-bd57-4be3f9573a59"
      },
      "execution_count": null,
      "outputs": [
        {
          "output_type": "execute_result",
          "data": {
            "text/plain": [
              "<matplotlib.legend.Legend at 0x7efd201b45b0>"
            ]
          },
          "metadata": {},
          "execution_count": 10
        },
        {
          "output_type": "display_data",
          "data": {
            "text/plain": [
              "<Figure size 640x480 with 1 Axes>"
            ],
            "image/png": "[encoded data removed]"
          },
          "metadata": {}
        }
      ]
    },
    {
      "cell_type": "code",
      "source": [],
      "metadata": {
        "id": "afGrRmGkgbWu"
      },
      "execution_count": null,
      "outputs": []
    }
  ]
}